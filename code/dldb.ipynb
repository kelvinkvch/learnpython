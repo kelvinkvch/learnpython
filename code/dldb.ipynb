{
 "cells": [
  {
   "cell_type": "code",
   "execution_count": 6,
   "id": "d9674f1f",
   "metadata": {},
   "outputs": [],
   "source": [
    "from sqlalchemy import create_engine\n",
    "from sqlalchemy.orm import sessionmaker, declarative_base\n",
    "from sqlalchemy import Column, Integer, String, DateTime, Boolean, SmallInteger, Text"
   ]
  },
  {
   "cell_type": "code",
   "execution_count": 3,
   "id": "ef4fbe64",
   "metadata": {},
   "outputs": [],
   "source": [
    "engine = create_engine(\"sqlite:///:memory:\", echo=True)\n",
    "Session = sessionmaker(bind=engine)\n",
    "session = Session()"
   ]
  },
  {
   "cell_type": "code",
   "execution_count": 7,
   "id": "a2a44a3e",
   "metadata": {},
   "outputs": [],
   "source": [
    "from datetime import datetime\n",
    "\n",
    "Base = declarative_base()\n",
    "\n",
    "\n",
    "class Student(Base):\n",
    "    __tablename__ = \"student\"\n",
    "\n",
    "    id = Column(Integer, primary_key=True, comment=\"主键id\")\n",
    "    name = Column(String(20), nullable=False, comment=\"学生姓名\")\n",
    "    gender = Column(Boolean, default=True, comment=\"性别\")\n",
    "    age = Column(SmallInteger, comment=\"年龄\")\n",
    "    class_id = Column(\"class\", SmallInteger, comment=\"班级\")\n",
    "    description = Column(Text, comment=\"个人描述\")\n",
    "    status = Column(Boolean, default=True, comment=\"状态\")\n",
    "    create_time = Column(DateTime, default=datetime.now, comment=\"创建时间\")"
   ]
  },
  {
   "cell_type": "code",
   "execution_count": 8,
   "id": "0de39b8c",
   "metadata": {},
   "outputs": [
    {
     "name": "stdout",
     "output_type": "stream",
     "text": [
      "2025-05-22 08:28:41,731 INFO sqlalchemy.engine.Engine BEGIN (implicit)\n",
      "2025-05-22 08:28:41,732 INFO sqlalchemy.engine.Engine PRAGMA main.table_info(\"student\")\n",
      "2025-05-22 08:28:41,733 INFO sqlalchemy.engine.Engine [raw sql] ()\n",
      "2025-05-22 08:28:41,735 INFO sqlalchemy.engine.Engine PRAGMA temp.table_info(\"student\")\n",
      "2025-05-22 08:28:41,736 INFO sqlalchemy.engine.Engine [raw sql] ()\n",
      "2025-05-22 08:28:41,738 INFO sqlalchemy.engine.Engine \n",
      "CREATE TABLE student (\n",
      "\tid INTEGER NOT NULL, \n",
      "\tname VARCHAR(20) NOT NULL, \n",
      "\tgender BOOLEAN, \n",
      "\tage SMALLINT, \n",
      "\tclass SMALLINT, \n",
      "\tdescription TEXT, \n",
      "\tstatus BOOLEAN, \n",
      "\tcreate_time DATETIME, \n",
      "\tPRIMARY KEY (id)\n",
      ")\n",
      "\n",
      "\n",
      "2025-05-22 08:28:41,739 INFO sqlalchemy.engine.Engine [no key 0.00103s] ()\n",
      "2025-05-22 08:28:41,741 INFO sqlalchemy.engine.Engine COMMIT\n",
      "Done\n"
     ]
    }
   ],
   "source": [
    "if __name__ == \"__main__\":\n",
    "    Base.metadata.create_all(engine)\n",
    "    print(\"Done\")"
   ]
  },
  {
   "cell_type": "code",
   "execution_count": 9,
   "id": "7434272a",
   "metadata": {},
   "outputs": [],
   "source": [
    "from sqlalchemy.schema import CreateTable"
   ]
  },
  {
   "cell_type": "code",
   "execution_count": 10,
   "id": "3d1dd440",
   "metadata": {},
   "outputs": [
    {
     "name": "stdout",
     "output_type": "stream",
     "text": [
      "\n",
      "CREATE TABLE student (\n",
      "\tid INTEGER NOT NULL, \n",
      "\tname VARCHAR(20) NOT NULL, \n",
      "\tgender BOOLEAN, \n",
      "\tage SMALLINT, \n",
      "\tclass SMALLINT, \n",
      "\tdescription TEXT, \n",
      "\tstatus BOOLEAN, \n",
      "\tcreate_time DATETIME, \n",
      "\tPRIMARY KEY (id)\n",
      ")\n",
      "\n",
      "\n"
     ]
    }
   ],
   "source": [
    "print(CreateTable(Student.__table__).compile(engine))"
   ]
  }
 ],
 "metadata": {
  "kernelspec": {
   "display_name": "learnpython",
   "language": "python",
   "name": "python3"
  },
  "language_info": {
   "codemirror_mode": {
    "name": "ipython",
    "version": 3
   },
   "file_extension": ".py",
   "mimetype": "text/x-python",
   "name": "python",
   "nbconvert_exporter": "python",
   "pygments_lexer": "ipython3",
   "version": "3.13.2"
  }
 },
 "nbformat": 4,
 "nbformat_minor": 5
}
