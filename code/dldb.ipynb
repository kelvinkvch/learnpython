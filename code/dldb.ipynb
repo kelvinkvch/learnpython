{
 "cells": [
  {
   "cell_type": "code",
   "execution_count": 6,
   "id": "1781714b",
   "metadata": {},
   "outputs": [],
   "source": [
    "from sqlalchemy import create_engine\n",
    "from sqlalchemy.orm import sessionmaker\n",
    "\n",
    "engine = create_engine(\"sqlite:///:memory:\")\n",
    "Session = sessionmaker(bind=engine)\n",
    "session = Session()"
   ]
  },
  {
   "cell_type": "code",
   "execution_count": null,
   "id": "2aea4a3f",
   "metadata": {},
   "outputs": [],
   "source": [
    "from datetime import datetime \n",
    "from sqlalchemy import (Table, Column, Integer, Numeric, String, DateTime, \n",
    "                        ForeignKey) \n",
    "from sqlalchemy.ext.declarative import declarative_base \n",
    "from sqlalchemy.orm import relationship, backref \n",
    "Base = declarative_base() \n",
    "class Cookie(Base): \n",
    "    __tablename__ = 'cookies' \n",
    "    cookie_id = Column(Integer(), primary_key=True) \n",
    "    cookie_name = Column(String(50), index=True) \n",
    "    cookie_recipe_url = Column(String(255)) \n",
    "    cookie_sku = Column(String(55)) \n",
    "    quantity = Column(Integer()) \n",
    "    unit_cost = Column(Numeric(12, 2)) \n",
    "    def __repr__(self): \n",
    "        return \"Cookie(cookie_name='{self.cookie_name}', \" \\\n",
    "        \"cookie_recipe_url='{self.cookie_recipe_url}', \" \\\n",
    "        \"cookie_sku='{self.cookie_sku}', \" \\\n",
    "                            \"quantity={self.quantity}, \" \\\n",
    "                                                \"unit_cost={self.unit_cost})\".format(self=self) \n",
    "class User(Base): \n",
    "    __tablename__ = 'users' \n",
    "    user_id = Column(Integer(), primary_key=True) \n",
    "    username = Column(String(15), nullable=False, unique=True) \n",
    "    email_address = Column(String(255), nullable=False) \n",
    "    phone = Column(String(20), nullable=False) \n",
    "    password = Column(String(25), nullable=False) \n",
    "    created_on = Column(DateTime(), default=datetime.now) \n",
    "    updated_on = Column(DateTime(), default=datetime.now, \n",
    "                        onupdate=datetime.now) \n",
    "    def __repr__(self): \n",
    "        return \"User(username='{self.username}', \" \\\n",
    "                                                      \"email_address='{self.email_address}', \"                      \n",
    "                     \"phone='{self.phone}', \" \\\n",
    "                                                                  \"password='{self.password}')\".format(self=self) \n",
    "class Order(Base): \n",
    "    __tablename__ = 'orders' \n",
    "    order_id = Column(Integer(), primary_key=True) \n",
    "    user_id = Column(Integer(), ForeignKey('users.user_id')) \n",
    "    user = relationship(\"User\", backref=backref('orders', order_by=order_id)) \n",
    "    def __repr__(self): \n",
    "        return \"Order(user_id={self.user_id}, \" \\\n",
    "                      \"shipped={self.shipped})\".format(self=self) \n",
    "class LineItems(Base): \n",
    "    __tablename__ = 'line_items' \n",
    "    line_item_id = Column(Integer(), primary_key=True) \n",
    "    order_id = Column(Integer(), ForeignKey('orders.order_id')) \n",
    "    cookie_id = Column(Integer(), ForeignKey('cookies.cookie_id')) \n",
    "    quantity = Column(Integer()) \n",
    "    extended_cost = Column(Numeric(12, 2)) \n",
    "    order = relationship(\"Order\", backref=backref('line_items', \n",
    "                         order_by=line_item_id)) \n",
    "    cookie = relationship(\"Cookie\", uselist=False, order_by=id) \n",
    "    def __repr__(self): \n",
    "        return \"LineItems(order_id={self.order_id}, \" \\\n",
    "                          \"cookie_id={self.cookie_id}, \" \\\n",
    "                          \"quantity={self.quantity}, \" \\\n",
    "                          \"extended_cost={self.extended_cost})\".format( \n",
    "                     self=self) \n",
    "Base.metadata.create_all(engine)"
   ]
  }
 ],
 "metadata": {
  "kernelspec": {
   "display_name": "learnpython",
   "language": "python",
   "name": "python3"
  },
  "language_info": {
   "codemirror_mode": {
    "name": "ipython",
    "version": 3
   },
   "file_extension": ".py",
   "mimetype": "text/x-python",
   "name": "python",
   "nbconvert_exporter": "python",
   "pygments_lexer": "ipython3",
   "version": "3.13.2"
  }
 },
 "nbformat": 4,
 "nbformat_minor": 5
}
