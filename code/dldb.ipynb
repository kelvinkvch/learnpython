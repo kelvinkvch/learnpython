{
 "cells": [
  {
   "cell_type": "code",
   "execution_count": 1,
   "id": "69536d41",
   "metadata": {},
   "outputs": [],
   "source": [
    "from datetime import datetime\n",
    "from sqlalchemy import (\n",
    "    MetaData,\n",
    "    Table,\n",
    "    Column,\n",
    "    Integer,\n",
    "    Numeric,\n",
    "    String,\n",
    "    DateTime,\n",
    "    ForeignKey,\n",
    "    Boolean,\n",
    "    create_engine,\n",
    "    CheckConstraint,\n",
    ")\n",
    "\n",
    "metadata = MetaData()"
   ]
  },
  {
   "cell_type": "code",
   "execution_count": 2,
   "id": "8c278e81",
   "metadata": {},
   "outputs": [],
   "source": [
    "cookies = Table(\n",
    "    \"cookies\",\n",
    "    metadata,\n",
    "    Column(\"cookie_id\", Integer(), primary_key=True),\n",
    "    Column(\"cookie_name\", String(50), index=True),\n",
    "    Column(\"cookie_recipe_url\", String(255)),\n",
    "    Column(\"cookie_sku\", String(55)),\n",
    "    Column(\"quantity\", Integer()),\n",
    "    Column(\"unit_cost\", Numeric(12, 2)),\n",
    "    CheckConstraint(\"quantity >=0\", name=\"quantity_positive\"),\n",
    ")\n",
    "users = Table(\n",
    "    \"users\",\n",
    "    metadata,\n",
    "    Column(\"user_id\", Integer(), primary_key=True),\n",
    "    Column(\"username\", String(15), nullable=False, unique=True),\n",
    "    Column(\"email_address\", String(255), nullable=False),\n",
    "    Column(\"phone\", String(20), nullable=False),\n",
    "    Column(\"password\", String(25), nullable=False),\n",
    "    Column(\"create_on\", DateTime(), default=datetime.now),\n",
    "    Column(\n",
    "        \"update_on\", DateTime(), default=datetime.now, onupdate=datetime.now\n",
    "    ),\n",
    ")\n",
    "orders = Table(\n",
    "    \"orders\",\n",
    "    metadata,\n",
    "    Column(\"order_id\", Integer()),\n",
    "    Column(\"user_id\", ForeignKey(\"users.user_id\")),\n",
    "    Column(\"shipped\", Boolean(), default=False),\n",
    ")\n",
    "line_items = Table(\n",
    "    \"line_items\",\n",
    "    metadata,\n",
    "    Column(\"line_item_id\", Integer(), primary_key=True),\n",
    "    Column(\"order_id\", ForeignKey(\"orders.order_id\")),\n",
    "    Column(\"cookie_id\", ForeignKey(\"cookies.cookie_id\")),\n",
    "    Column(\"quantity\", Integer()),\n",
    "    Column(\"extended_cost\", Numeric(12, 2)),\n",
    ")\n",
    "engine = create_engine(\"sqlite:///:memory:\")\n",
    "metadata.create_all(engine)\n",
    "cnn = engine.connect()"
   ]
  },
  {
   "cell_type": "code",
   "execution_count": 3,
   "id": "95c10661",
   "metadata": {},
   "outputs": [],
   "source": [
    "from sqlalchemy import select, insert, update\n",
    "\n",
    "ins = insert(users).values(\n",
    "    username=\"cookiemon\",\n",
    "    email_address=\"mon@cookie.com\",\n",
    "    phone=\"111-111-1111\",\n",
    "    password=\"password\",\n",
    ")\n",
    "result = cnn.execute(ins)\n",
    "ins = cookies.insert()\n",
    "lst = [\n",
    "    {\n",
    "        \"cookie_name\": \"chocolate chip\",\n",
    "        \"cookie_recipe_url\": \"http://some.awso.me/cookie/recipe.html\",\n",
    "        \"cookie_sku\": \"cc01\",\n",
    "        \"quantity\": 12,\n",
    "        \"unit_cost\": 0.5,\n",
    "    },\n",
    "    {\n",
    "        \"cookie_name\": \"dark chocolate chip\",\n",
    "        \"cookie_recipe_url\": \"http://some.awso.me/cookie/recipe_dark.html\",\n",
    "        \"cookie_sku\": \"cc02\",\n",
    "        \"quantity\": 1,\n",
    "        \"unit_cost\": 0.75,\n",
    "    },\n",
    "]\n",
    "result = cnn.execute(ins, lst)\n",
    "cnn.commit()"
   ]
  },
  {
   "cell_type": "code",
   "execution_count": 4,
   "id": "80a29088",
   "metadata": {},
   "outputs": [],
   "source": [
    "ins = insert(orders).values(user_id=1, order_id=1)\n",
    "result = cnn.execute(ins)\n",
    "ins = insert(line_items)\n",
    "lst = [{\"order_id\": 1, \"cookie_id\": 1, \"quantity\": 9, \"extended_cost\": 4.5}]\n",
    "result = cnn.execute(ins, lst)\n",
    "cnn.commit()"
   ]
  },
  {
   "cell_type": "code",
   "execution_count": 5,
   "id": "a0b18f7b",
   "metadata": {},
   "outputs": [],
   "source": [
    "ins = insert(orders).values(user_id=1, order_id=2)\n",
    "result = cnn.execute(ins)\n",
    "ins = insert(line_items)\n",
    "lst = [\n",
    "    {\"order_id\": 2, \"cookie_id\": 1, \"quantity\": 4, \"extended_cost\": 1.50},\n",
    "    {\"order_id\": 2, \"cookie_id\": 2, \"quantity\": 1, \"extended_cost\": 4.50},\n",
    "]\n",
    "result = cnn.execute(ins, lst)\n",
    "cnn.commit()"
   ]
  },
  {
   "cell_type": "code",
   "execution_count": 6,
   "id": "75a666fe",
   "metadata": {},
   "outputs": [],
   "source": [
    "def ship_itv1(order_id):\n",
    "    s = select(line_items.c.cookie_id, line_items.c.quantity)\n",
    "    s = s.where(line_items.c.order_id == order_id)\n",
    "    toship = cnn.execute(s)\n",
    "    for cookie in toship:\n",
    "        u = update(cookies).where(cookies.c.cookie_id == cookie.cookie_id)\n",
    "        u = u.values(quantity=cookies.c.quantity - cookie.quantity)\n",
    "        result = cnn.execute(u)\n",
    "    u = update(orders).where(orders.c.order_id == order_id)\n",
    "    u = u.values(shipped=True)\n",
    "    result = cnn.execute(u)\n",
    "    cnn.commit()\n",
    "    print(f\"shipped order id: {order_id}\")"
   ]
  },
  {
   "cell_type": "code",
   "execution_count": 7,
   "id": "53dd617b",
   "metadata": {},
   "outputs": [],
   "source": [
    "from sqlalchemy.exc import IntegrityError\n",
    "\n",
    "\n",
    "def ship_it(order_id):\n",
    "    s = select(line_items.c.cookie_id, line_items.c.quantity)\n",
    "    s = s.where(line_items.c.order_id == order_id)\n",
    "    transaction = cnn.begin()\n",
    "    toship = cnn.execute(s).fetchall()\n",
    "\n",
    "    try:\n",
    "        for cookie in toship:\n",
    "            u = update(cookies).where(cookies.c.cookie_id == cookie.cookie_id)\n",
    "            u = u.values(quantity=cookies.c.quantity - cookie.quantity)\n",
    "            result = cnn.execute(u)\n",
    "        u = update(orders).where(orders.c.order_id == order_id)\n",
    "        u = u.values(shipped=True)\n",
    "\n",
    "        result = cnn.execute(u)\n",
    "        print(f\"Shipped order ID: {order_id}\")\n",
    "        transaction.commit()\n",
    "    except IntegrityError as error:\n",
    "        transaction.rollback()\n",
    "        print(error)"
   ]
  },
  {
   "cell_type": "code",
   "execution_count": 8,
   "id": "1f1b8bb6",
   "metadata": {},
   "outputs": [
    {
     "name": "stdout",
     "output_type": "stream",
     "text": [
      "Shipped order ID: 1\n"
     ]
    }
   ],
   "source": [
    "ship_it(1)"
   ]
  },
  {
   "cell_type": "code",
   "execution_count": 9,
   "id": "162f64e3",
   "metadata": {},
   "outputs": [
    {
     "name": "stdout",
     "output_type": "stream",
     "text": [
      "(sqlite3.IntegrityError) CHECK constraint failed: quantity_positive\n",
      "[SQL: UPDATE cookies SET quantity=(cookies.quantity - ?) WHERE cookies.cookie_id = ?]\n",
      "[parameters: (4, 1)]\n",
      "(Background on this error at: https://sqlalche.me/e/20/gkpj)\n"
     ]
    }
   ],
   "source": [
    "ship_it(2)"
   ]
  },
  {
   "cell_type": "code",
   "execution_count": null,
   "id": "2421f5e9",
   "metadata": {},
   "outputs": [
    {
     "name": "stdout",
     "output_type": "stream",
     "text": [
      "Shipped order ID: 3\n"
     ]
    }
   ],
   "source": [
    "ship_it(3)"
   ]
  }
 ],
 "metadata": {
  "kernelspec": {
   "display_name": "learnpython",
   "language": "python",
   "name": "python3"
  },
  "language_info": {
   "codemirror_mode": {
    "name": "ipython",
    "version": 3
   },
   "file_extension": ".py",
   "mimetype": "text/x-python",
   "name": "python",
   "nbconvert_exporter": "python",
   "pygments_lexer": "ipython3",
   "version": "3.13.2"
  }
 },
 "nbformat": 4,
 "nbformat_minor": 5
}
