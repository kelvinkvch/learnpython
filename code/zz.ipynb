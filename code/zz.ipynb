{
 "cells": [
  {
   "cell_type": "code",
   "execution_count": 1,
   "id": "87b67056",
   "metadata": {},
   "outputs": [],
   "source": [
    "from sqlalchemy import create_engine\n",
    "from sqlalchemy.orm import sessionmaker"
   ]
  },
  {
   "cell_type": "code",
   "execution_count": 2,
   "id": "41ffe4f4",
   "metadata": {},
   "outputs": [],
   "source": [
    "engine = create_engine(\"sqlite:///:memory:\", echo=True)\n",
    "Session = sessionmaker(bind=engine)\n",
    "session = Session()"
   ]
  },
  {
   "cell_type": "code",
   "execution_count": 3,
   "id": "82f449b1",
   "metadata": {},
   "outputs": [],
   "source": [
    "from datetime import datetime\n",
    "from sqlalchemy import (\n",
    "    Table,\n",
    "    Column,\n",
    "    Integer,\n",
    "    Numeric,\n",
    "    String,\n",
    "    DateTime,\n",
    "    Boolean,\n",
    "    ForeignKey,\n",
    ")\n",
    "from sqlalchemy.orm import relationship, backref, declarative_base"
   ]
  },
  {
   "cell_type": "code",
   "execution_count": 4,
   "id": "1573c603",
   "metadata": {},
   "outputs": [],
   "source": [
    "Base = declarative_base()\n",
    "\n",
    "\n",
    "class Cookie(Base):\n",
    "    __tablename__ = \"cookies\"\n",
    "\n",
    "    cookie_id = Column(Integer, primary_key=True)\n",
    "    cookie_name = Column(String(50), index=True)\n",
    "    cookie_recipe_url = Column(String(255))\n",
    "    cookie_sku = Column(String(55))\n",
    "    quantity = Column(Integer)\n",
    "    unit_cost = Column(Numeric(12, 2))\n",
    "\n",
    "    def __repr__(self):\n",
    "        return f\"Cookie(cookie_name={self.cookie_name},cookie_recipe_url={self.cookie_recipe_url},cookie_skue={self.cookie_sku},quantity={self.quantity},unit_cost={self.unit_cost})\""
   ]
  },
  {
   "cell_type": "code",
   "execution_count": 5,
   "id": "2424ee31",
   "metadata": {},
   "outputs": [
    {
     "name": "stdout",
     "output_type": "stream",
     "text": [
      "2025-05-22 10:48:00,480 INFO sqlalchemy.engine.Engine BEGIN (implicit)\n",
      "2025-05-22 10:48:00,482 INFO sqlalchemy.engine.Engine PRAGMA main.table_info(\"cookies\")\n",
      "2025-05-22 10:48:00,483 INFO sqlalchemy.engine.Engine [raw sql] ()\n",
      "2025-05-22 10:48:00,485 INFO sqlalchemy.engine.Engine PRAGMA temp.table_info(\"cookies\")\n",
      "2025-05-22 10:48:00,486 INFO sqlalchemy.engine.Engine [raw sql] ()\n",
      "2025-05-22 10:48:00,487 INFO sqlalchemy.engine.Engine PRAGMA main.table_info(\"users\")\n",
      "2025-05-22 10:48:00,488 INFO sqlalchemy.engine.Engine [raw sql] ()\n",
      "2025-05-22 10:48:00,489 INFO sqlalchemy.engine.Engine PRAGMA temp.table_info(\"users\")\n",
      "2025-05-22 10:48:00,490 INFO sqlalchemy.engine.Engine [raw sql] ()\n",
      "2025-05-22 10:48:00,493 INFO sqlalchemy.engine.Engine PRAGMA main.table_info(\"orders\")\n",
      "2025-05-22 10:48:00,494 INFO sqlalchemy.engine.Engine [raw sql] ()\n",
      "2025-05-22 10:48:00,497 INFO sqlalchemy.engine.Engine PRAGMA temp.table_info(\"orders\")\n",
      "2025-05-22 10:48:00,498 INFO sqlalchemy.engine.Engine [raw sql] ()\n",
      "2025-05-22 10:48:00,500 INFO sqlalchemy.engine.Engine PRAGMA main.table_info(\"line_items\")\n",
      "2025-05-22 10:48:00,500 INFO sqlalchemy.engine.Engine [raw sql] ()\n",
      "2025-05-22 10:48:00,502 INFO sqlalchemy.engine.Engine PRAGMA temp.table_info(\"line_items\")\n",
      "2025-05-22 10:48:00,503 INFO sqlalchemy.engine.Engine [raw sql] ()\n",
      "2025-05-22 10:48:00,506 INFO sqlalchemy.engine.Engine \n",
      "CREATE TABLE cookies (\n",
      "\tcookie_id INTEGER NOT NULL, \n",
      "\tcookie_name VARCHAR(50), \n",
      "\tcookie_recipe_url VARCHAR(255), \n",
      "\tcookie_sku VARCHAR(55), \n",
      "\tquantity INTEGER, \n",
      "\tunit_cost NUMERIC(12, 2), \n",
      "\tPRIMARY KEY (cookie_id)\n",
      ")\n",
      "\n",
      "\n",
      "2025-05-22 10:48:00,507 INFO sqlalchemy.engine.Engine [no key 0.00098s] ()\n",
      "2025-05-22 10:48:00,508 INFO sqlalchemy.engine.Engine CREATE INDEX ix_cookies_cookie_name ON cookies (cookie_name)\n",
      "2025-05-22 10:48:00,510 INFO sqlalchemy.engine.Engine [no key 0.00141s] ()\n",
      "2025-05-22 10:48:00,512 INFO sqlalchemy.engine.Engine \n",
      "CREATE TABLE users (\n",
      "\tuser_id INTEGER NOT NULL, \n",
      "\tusername VARCHAR(15) NOT NULL, \n",
      "\temail_address VARCHAR(255) NOT NULL, \n",
      "\tphone VARCHAR(20) NOT NULL, \n",
      "\tpassword VARCHAR(25) NOT NULL, \n",
      "\tcreate_on DATETIME, \n",
      "\tupdate_on DATETIME, \n",
      "\tPRIMARY KEY (user_id), \n",
      "\tUNIQUE (username)\n",
      ")\n",
      "\n",
      "\n",
      "2025-05-22 10:48:00,513 INFO sqlalchemy.engine.Engine [no key 0.00123s] ()\n",
      "2025-05-22 10:48:00,515 INFO sqlalchemy.engine.Engine \n",
      "CREATE TABLE orders (\n",
      "\torder_id INTEGER NOT NULL, \n",
      "\tuser_id INTEGER, \n",
      "\tPRIMARY KEY (order_id), \n",
      "\tFOREIGN KEY(user_id) REFERENCES users (user_id)\n",
      ")\n",
      "\n",
      "\n",
      "2025-05-22 10:48:00,516 INFO sqlalchemy.engine.Engine [no key 0.00116s] ()\n",
      "2025-05-22 10:48:00,518 INFO sqlalchemy.engine.Engine \n",
      "CREATE TABLE line_items (\n",
      "\tline_item_id INTEGER NOT NULL, \n",
      "\torder_id INTEGER, \n",
      "\tcookie_id INTEGER, \n",
      "\tquantity INTEGER, \n",
      "\textended_cost NUMERIC(12, 2), \n",
      "\tPRIMARY KEY (line_item_id), \n",
      "\tFOREIGN KEY(order_id) REFERENCES orders (order_id), \n",
      "\tFOREIGN KEY(cookie_id) REFERENCES cookies (cookie_id)\n",
      ")\n",
      "\n",
      "\n",
      "2025-05-22 10:48:00,520 INFO sqlalchemy.engine.Engine [no key 0.00134s] ()\n",
      "2025-05-22 10:48:00,521 INFO sqlalchemy.engine.Engine COMMIT\n"
     ]
    }
   ],
   "source": [
    "class User(Base):\n",
    "    __tablename__ = \"users\"\n",
    "\n",
    "    user_id = Column(Integer, primary_key=True)\n",
    "    username = Column(String(15), nullable=False, unique=True)\n",
    "    email_address = Column(String(255), nullable=False)\n",
    "    phone = Column(String(20), nullable=False)\n",
    "    password = Column(String(25), nullable=False)\n",
    "    create_on = Column(DateTime(), default=datetime.now)\n",
    "    update_on = Column(DateTime(), default=datetime.now, onupdate=datetime.now)\n",
    "\n",
    "    def __repr__(self):\n",
    "        return f\"User(username={self.username},email_address={self.email_address},phone={self.phone},password={self.password})\"\n",
    "\n",
    "\n",
    "class Order(Base):\n",
    "    __tablename__ = \"orders\"\n",
    "\n",
    "    order_id = Column(Integer(), primary_key=True)\n",
    "    user_id = Column(Integer(), ForeignKey(\"users.user_id\"))\n",
    "    user = relationship(\"User\", backref=backref(\"orders\", order_by=order_id))\n",
    "\n",
    "    def __repr__(self):\n",
    "        return \"Order(user_id={self.user_id},shipped={self.shipped})\"\n",
    "\n",
    "\n",
    "class Lineitems(Base):\n",
    "    __tablename__ = \"line_items\"\n",
    "    line_item_id = Column(Integer(), primary_key=True)\n",
    "    order_id = Column(Integer(), ForeignKey(\"orders.order_id\"))\n",
    "    cookie_id = Column(Integer(), ForeignKey(\"cookies.cookie_id\"))\n",
    "    quantity = Column(Integer())\n",
    "    extended_cost = Column(Numeric(12, 2))\n",
    "    order = relationship(\"Order\", backref=backref(\"line_items\", order_by=line_item_id))\n",
    "    cookie = relationship(\"Cookie\", uselist=False, order_by=cookie_id)\n",
    "\n",
    "    def __repr__(self):\n",
    "        return \"Lineitems(order_id={self.order_id},cookie_id={self.cookie_id},quantity={self.quantity},extended_cost={self.extened_cost})\"\n",
    "\n",
    "\n",
    "Base.metadata.create_all(engine)"
   ]
  },
  {
   "cell_type": "code",
   "execution_count": 6,
   "id": "e24579c6",
   "metadata": {},
   "outputs": [
    {
     "name": "stdout",
     "output_type": "stream",
     "text": [
      "2025-05-22 10:51:43,404 INFO sqlalchemy.engine.Engine BEGIN (implicit)\n",
      "2025-05-22 10:51:43,407 INFO sqlalchemy.engine.Engine INSERT INTO cookies (cookie_name, cookie_recipe_url, cookie_sku, quantity, unit_cost) VALUES (?, ?, ?, ?, ?)\n",
      "2025-05-22 10:51:43,407 INFO sqlalchemy.engine.Engine [generated in 0.00090s] ('chocolate chip', 'http://some.aweso.me/cookie/recippe.html', 'cc01', 12, 0.5)\n",
      "2025-05-22 10:51:43,410 INFO sqlalchemy.engine.Engine COMMIT\n"
     ]
    }
   ],
   "source": [
    "cc = Cookie(\n",
    "    cookie_name=\"chocolate chip\",\n",
    "    cookie_recipe_url=\"http://some.aweso.me/cookie/recippe.html\",\n",
    "    cookie_sku=\"cc01\",\n",
    "    quantity=12,\n",
    "    unit_cost=0.5,\n",
    ")\n",
    "session.add(cc)\n",
    "session.commit()"
   ]
  },
  {
   "cell_type": "code",
   "execution_count": 7,
   "id": "46199578",
   "metadata": {},
   "outputs": [
    {
     "name": "stdout",
     "output_type": "stream",
     "text": [
      "2025-05-22 10:52:59,509 INFO sqlalchemy.engine.Engine BEGIN (implicit)\n",
      "2025-05-22 10:52:59,513 INFO sqlalchemy.engine.Engine SELECT cookies.cookie_id AS cookies_cookie_id, cookies.cookie_name AS cookies_cookie_name, cookies.cookie_recipe_url AS cookies_cookie_recipe_url, cookies.cookie_sku AS cookies_cookie_sku, cookies.quantity AS cookies_quantity, cookies.unit_cost AS cookies_unit_cost \n",
      "FROM cookies \n",
      "WHERE cookies.cookie_id = ?\n",
      "2025-05-22 10:52:59,514 INFO sqlalchemy.engine.Engine [generated in 0.00106s] (1,)\n"
     ]
    },
    {
     "data": {
      "text/plain": [
       "1"
      ]
     },
     "execution_count": 7,
     "metadata": {},
     "output_type": "execute_result"
    }
   ],
   "source": [
    "cc.cookie_id"
   ]
  },
  {
   "cell_type": "code",
   "execution_count": 8,
   "id": "5f083839",
   "metadata": {},
   "outputs": [
    {
     "name": "stdout",
     "output_type": "stream",
     "text": [
      "2025-05-22 10:55:24,119 INFO sqlalchemy.engine.Engine INSERT INTO cookies (cookie_name, cookie_recipe_url, cookie_sku, quantity, unit_cost) VALUES (?, ?, ?, ?, ?) RETURNING cookie_id\n",
      "2025-05-22 10:55:24,121 INFO sqlalchemy.engine.Engine [generated in 0.00021s (insertmanyvalues) 1/2 (ordered; batch not supported)] ('dark chocolate chip', 'http://some.aweso.me/cookie/recipe_dark.html', 'CC02', 1, 0.75)\n",
      "2025-05-22 10:55:24,122 INFO sqlalchemy.engine.Engine INSERT INTO cookies (cookie_name, cookie_recipe_url, cookie_sku, quantity, unit_cost) VALUES (?, ?, ?, ?, ?) RETURNING cookie_id\n",
      "2025-05-22 10:55:24,123 INFO sqlalchemy.engine.Engine [insertmanyvalues 2/2 (ordered; batch not supported)] ('molasses', 'http://some.aweso.me/cookie/recipe_molasses.html', 'MOL01', 1, 0.8)\n",
      "2\n",
      "3\n"
     ]
    }
   ],
   "source": [
    "dcc = Cookie(\n",
    "    cookie_name=\"dark chocolate chip\",\n",
    "    cookie_recipe_url=\"http://some.aweso.me/cookie/recipe_dark.html\",\n",
    "    cookie_sku=\"CC02\",\n",
    "    quantity=1,\n",
    "    unit_cost=0.75,\n",
    ")\n",
    "mol = Cookie(\n",
    "    cookie_name=\"molasses\",\n",
    "    cookie_recipe_url=\"http://some.aweso.me/cookie/recipe_molasses.html\",\n",
    "    cookie_sku=\"MOL01\",\n",
    "    quantity=1,\n",
    "    unit_cost=0.80,\n",
    ")\n",
    "session.add(dcc)\n",
    "session.add(mol)\n",
    "session.flush()\n",
    "print(dcc.cookie_id)\n",
    "print(mol.cookie_id)"
   ]
  },
  {
   "cell_type": "code",
   "execution_count": 9,
   "id": "8c17ac71",
   "metadata": {},
   "outputs": [
    {
     "name": "stdout",
     "output_type": "stream",
     "text": [
      "2025-05-22 10:58:06,805 INFO sqlalchemy.engine.Engine INSERT INTO cookies (cookie_name, cookie_recipe_url, cookie_sku, quantity, unit_cost) VALUES (?, ?, ?, ?, ?)\n",
      "2025-05-22 10:58:06,807 INFO sqlalchemy.engine.Engine [generated in 0.00189s] [('peanut butter', 'http://some.aweso.me/cookie/peanut.html', 'PB01', 24, 0.25), ('oatmeal raisin', 'http://some.okay.me/cookie/raisin.html', 'EWW01', 100, 1.0)]\n",
      "2025-05-22 10:58:06,808 INFO sqlalchemy.engine.Engine COMMIT\n",
      "None\n"
     ]
    }
   ],
   "source": [
    "c1 = Cookie(\n",
    "    cookie_name=\"peanut butter\",\n",
    "    cookie_recipe_url=\"http://some.aweso.me/cookie/peanut.html\",\n",
    "    cookie_sku=\"PB01\",\n",
    "    quantity=24,\n",
    "    unit_cost=0.25,\n",
    ")\n",
    "c2 = Cookie(\n",
    "    cookie_name=\"oatmeal raisin\",\n",
    "    cookie_recipe_url=\"http://some.okay.me/cookie/raisin.html\",\n",
    "    cookie_sku=\"EWW01\",\n",
    "    quantity=100,\n",
    "    unit_cost=1.00,\n",
    ")\n",
    "session.bulk_save_objects([c1, c2])\n",
    "session.commit()\n",
    "print(c1.cookie_id)"
   ]
  },
  {
   "cell_type": "code",
   "execution_count": 10,
   "id": "6bd11319",
   "metadata": {},
   "outputs": [
    {
     "name": "stdout",
     "output_type": "stream",
     "text": [
      "2025-05-22 11:01:09,228 INFO sqlalchemy.engine.Engine BEGIN (implicit)\n",
      "2025-05-22 11:01:09,229 INFO sqlalchemy.engine.Engine select * from cookies\n",
      "2025-05-22 11:01:09,230 INFO sqlalchemy.engine.Engine [generated in 0.00265s] ()\n",
      "[(1, 'chocolate chip', 'http://some.aweso.me/cookie/recippe.html', 'cc01', 12, 0.5), (2, 'dark chocolate chip', 'http://some.aweso.me/cookie/recipe_dark.html', 'CC02', 1, 0.75), (3, 'molasses', 'http://some.aweso.me/cookie/recipe_molasses.html', 'MOL01', 1, 0.8), (4, 'peanut butter', 'http://some.aweso.me/cookie/peanut.html', 'PB01', 24, 0.25), (5, 'oatmeal raisin', 'http://some.okay.me/cookie/raisin.html', 'EWW01', 100, 1)]\n",
      "2025-05-22 11:01:09,233 INFO sqlalchemy.engine.Engine ROLLBACK\n"
     ]
    }
   ],
   "source": [
    "from sqlalchemy import text\n",
    "\n",
    "with engine.connect() as cnn:\n",
    "    result = cnn.execute(text(\"select * from cookies\"))\n",
    "    print(result.fetchall())"
   ]
  },
  {
   "cell_type": "code",
   "execution_count": 11,
   "id": "6daf3fea",
   "metadata": {},
   "outputs": [
    {
     "name": "stdout",
     "output_type": "stream",
     "text": [
      "2025-05-22 11:02:41,899 INFO sqlalchemy.engine.Engine BEGIN (implicit)\n",
      "2025-05-22 11:02:41,902 INFO sqlalchemy.engine.Engine SELECT cookies.cookie_id AS cookies_cookie_id, cookies.cookie_name AS cookies_cookie_name, cookies.cookie_recipe_url AS cookies_cookie_recipe_url, cookies.cookie_sku AS cookies_cookie_sku, cookies.quantity AS cookies_quantity, cookies.unit_cost AS cookies_unit_cost \n",
      "FROM cookies\n",
      "2025-05-22 11:02:41,903 INFO sqlalchemy.engine.Engine [generated in 0.00089s] ()\n",
      "[Cookie(cookie_name=chocolate chip,cookie_recipe_url=http://some.aweso.me/cookie/recippe.html,cookie_skue=cc01,quantity=12,unit_cost=0.50), Cookie(cookie_name=dark chocolate chip,cookie_recipe_url=http://some.aweso.me/cookie/recipe_dark.html,cookie_skue=CC02,quantity=1,unit_cost=0.75), Cookie(cookie_name=molasses,cookie_recipe_url=http://some.aweso.me/cookie/recipe_molasses.html,cookie_skue=MOL01,quantity=1,unit_cost=0.80), Cookie(cookie_name=peanut butter,cookie_recipe_url=http://some.aweso.me/cookie/peanut.html,cookie_skue=PB01,quantity=24,unit_cost=0.25), Cookie(cookie_name=oatmeal raisin,cookie_recipe_url=http://some.okay.me/cookie/raisin.html,cookie_skue=EWW01,quantity=100,unit_cost=1.00)]\n"
     ]
    }
   ],
   "source": [
    "ccs = session.query(Cookie).all()\n",
    "print(ccs)"
   ]
  },
  {
   "cell_type": "code",
   "execution_count": 14,
   "id": "257b7507",
   "metadata": {},
   "outputs": [
    {
     "name": "stdout",
     "output_type": "stream",
     "text": [
      "[Cookie(cookie_name=chocolate chip,cookie_recipe_url=http://some.aweso.me/cookie/recippe.html,cookie_skue=cc01,quantity=12,unit_cost=0.50),\n",
      " Cookie(cookie_name=dark chocolate chip,cookie_recipe_url=http://some.aweso.me/cookie/recipe_dark.html,cookie_skue=CC02,quantity=1,unit_cost=0.75),\n",
      " Cookie(cookie_name=molasses,cookie_recipe_url=http://some.aweso.me/cookie/recipe_molasses.html,cookie_skue=MOL01,quantity=1,unit_cost=0.80),\n",
      " Cookie(cookie_name=peanut butter,cookie_recipe_url=http://some.aweso.me/cookie/peanut.html,cookie_skue=PB01,quantity=24,unit_cost=0.25),\n",
      " Cookie(cookie_name=oatmeal raisin,cookie_recipe_url=http://some.okay.me/cookie/raisin.html,cookie_skue=EWW01,quantity=100,unit_cost=1.00)]\n"
     ]
    }
   ],
   "source": [
    "from pprint import pprint\n",
    "\n",
    "pprint(ccs)"
   ]
  },
  {
   "cell_type": "code",
   "execution_count": 15,
   "id": "60779047",
   "metadata": {},
   "outputs": [
    {
     "name": "stdout",
     "output_type": "stream",
     "text": [
      "2025-05-22 11:04:15,389 INFO sqlalchemy.engine.Engine SELECT cookies.cookie_id AS cookies_cookie_id, cookies.cookie_name AS cookies_cookie_name, cookies.cookie_recipe_url AS cookies_cookie_recipe_url, cookies.cookie_sku AS cookies_cookie_sku, cookies.quantity AS cookies_quantity, cookies.unit_cost AS cookies_unit_cost \n",
      "FROM cookies\n",
      "2025-05-22 11:04:15,391 INFO sqlalchemy.engine.Engine [cached since 91.22s ago] ()\n",
      "Cookie(cookie_name=chocolate chip,cookie_recipe_url=http://some.aweso.me/cookie/recippe.html,cookie_skue=cc01,quantity=12,unit_cost=0.50)\n",
      "Cookie(cookie_name=dark chocolate chip,cookie_recipe_url=http://some.aweso.me/cookie/recipe_dark.html,cookie_skue=CC02,quantity=1,unit_cost=0.75)\n",
      "Cookie(cookie_name=molasses,cookie_recipe_url=http://some.aweso.me/cookie/recipe_molasses.html,cookie_skue=MOL01,quantity=1,unit_cost=0.80)\n",
      "Cookie(cookie_name=peanut butter,cookie_recipe_url=http://some.aweso.me/cookie/peanut.html,cookie_skue=PB01,quantity=24,unit_cost=0.25)\n",
      "Cookie(cookie_name=oatmeal raisin,cookie_recipe_url=http://some.okay.me/cookie/raisin.html,cookie_skue=EWW01,quantity=100,unit_cost=1.00)\n"
     ]
    }
   ],
   "source": [
    "for cookie in session.query(Cookie):\n",
    "    print(cookie)"
   ]
  },
  {
   "cell_type": "code",
   "execution_count": 16,
   "id": "59a40c16",
   "metadata": {},
   "outputs": [
    {
     "name": "stdout",
     "output_type": "stream",
     "text": [
      "2025-05-22 11:35:13,590 INFO sqlalchemy.engine.Engine SELECT cookies.cookie_name AS cookies_cookie_name, cookies.quantity AS cookies_quantity \n",
      "FROM cookies\n",
      " LIMIT ? OFFSET ?\n",
      "2025-05-22 11:35:13,592 INFO sqlalchemy.engine.Engine [generated in 0.00209s] (1, 0)\n",
      "('chocolate chip', 12)\n"
     ]
    }
   ],
   "source": [
    "print(session.query(Cookie.cookie_name, Cookie.quantity).first())"
   ]
  },
  {
   "cell_type": "code",
   "execution_count": 18,
   "id": "25805292",
   "metadata": {},
   "outputs": [
    {
     "name": "stdout",
     "output_type": "stream",
     "text": [
      "2025-05-22 11:37:33,855 INFO sqlalchemy.engine.Engine SELECT cookies.cookie_id AS cookies_cookie_id, cookies.cookie_name AS cookies_cookie_name, cookies.cookie_recipe_url AS cookies_cookie_recipe_url, cookies.cookie_sku AS cookies_cookie_sku, cookies.quantity AS cookies_quantity, cookies.unit_cost AS cookies_unit_cost \n",
      "FROM cookies ORDER BY cookies.quantity\n",
      "2025-05-22 11:37:33,857 INFO sqlalchemy.engine.Engine [generated in 0.00246s] ()\n",
      "  1 - dark chocolate chip\n",
      "  1 - molasses\n",
      " 12 - chocolate chip\n",
      " 24 - peanut butter\n",
      "100 - oatmeal raisin\n"
     ]
    }
   ],
   "source": [
    "for cookie in session.query(Cookie).order_by(Cookie.quantity):\n",
    "    print(f\"{cookie.quantity:3} - {cookie.cookie_name}\")"
   ]
  },
  {
   "cell_type": "code",
   "execution_count": 23,
   "id": "5591f823",
   "metadata": {},
   "outputs": [
    {
     "name": "stdout",
     "output_type": "stream",
     "text": [
      "2025-05-22 11:39:58,073 INFO sqlalchemy.engine.Engine SELECT cookies.cookie_id AS cookies_cookie_id, cookies.cookie_name AS cookies_cookie_name, cookies.cookie_recipe_url AS cookies_cookie_recipe_url, cookies.cookie_sku AS cookies_cookie_sku, cookies.quantity AS cookies_quantity, cookies.unit_cost AS cookies_unit_cost \n",
      "FROM cookies ORDER BY cookies.quantity DESC\n",
      "2025-05-22 11:39:58,075 INFO sqlalchemy.engine.Engine [cached since 31.66s ago] ()\n",
      "100            oatmeal raisin\n",
      "24             peanut butter\n",
      "12             chocolate chip\n",
      "1              dark chocolate chip\n",
      "1              molasses\n"
     ]
    }
   ],
   "source": [
    "from sqlalchemy import desc\n",
    "\n",
    "for cookie in session.query(Cookie).order_by(desc(Cookie.quantity)):\n",
    "    print(f\"{cookie.quantity:<15}{cookie.cookie_name}\")"
   ]
  },
  {
   "cell_type": "code",
   "execution_count": 28,
   "id": "6f59ae1d",
   "metadata": {},
   "outputs": [
    {
     "name": "stdout",
     "output_type": "stream",
     "text": [
      "2025-05-22 11:43:06,889 INFO sqlalchemy.engine.Engine SELECT cookies.cookie_id AS cookies_cookie_id, cookies.cookie_name AS cookies_cookie_name, cookies.cookie_recipe_url AS cookies_cookie_recipe_url, cookies.cookie_sku AS cookies_cookie_sku, cookies.quantity AS cookies_quantity, cookies.unit_cost AS cookies_unit_cost \n",
      "FROM cookies ORDER BY cookies.quantity\n",
      " LIMIT ? OFFSET ?\n",
      "2025-05-22 11:43:06,891 INFO sqlalchemy.engine.Engine [cached since 59.81s ago] (2, 0)\n",
      "[('dark chocolate chip', 1), ('molasses', 1)]\n"
     ]
    }
   ],
   "source": [
    "query = session.query(Cookie).order_by(Cookie.quantity)[:2]\n",
    "print([(result.cookie_name, result.quantity) for result in query])"
   ]
  },
  {
   "cell_type": "code",
   "execution_count": 35,
   "id": "17953499",
   "metadata": {},
   "outputs": [
    {
     "name": "stdout",
     "output_type": "stream",
     "text": [
      "2025-05-22 11:46:40,805 INFO sqlalchemy.engine.Engine SELECT cookies.cookie_id AS cookies_cookie_id, cookies.cookie_name AS cookies_cookie_name, cookies.cookie_recipe_url AS cookies_cookie_recipe_url, cookies.cookie_sku AS cookies_cookie_sku, cookies.quantity AS cookies_quantity, cookies.unit_cost AS cookies_unit_cost \n",
      "FROM cookies ORDER BY cookies.quantity\n",
      " LIMIT ? OFFSET ?\n",
      "2025-05-22 11:46:40,806 INFO sqlalchemy.engine.Engine [cached since 268.7s ago] (2, 0)\n",
      "[('dark chocolate chip', 1), ('molasses', 1)]\n"
     ]
    }
   ],
   "source": [
    "query = session.query(Cookie).order_by(Cookie.quantity).limit(2)\n",
    "print([(result.cookie_name, result.quantity) for result in query])"
   ]
  },
  {
   "cell_type": "code",
   "execution_count": 39,
   "id": "9e2d0855",
   "metadata": {},
   "outputs": [
    {
     "name": "stdout",
     "output_type": "stream",
     "text": [
      "2025-05-22 11:48:51,107 INFO sqlalchemy.engine.Engine SELECT sum(cookies.quantity) AS sum_1 \n",
      "FROM cookies\n",
      "2025-05-22 11:48:51,108 INFO sqlalchemy.engine.Engine [cached since 58.76s ago] ()\n",
      "[(138,)]\n"
     ]
    }
   ],
   "source": [
    "from sqlalchemy import func\n",
    "\n",
    "inv_count = session.query(func.sum(Cookie.quantity))\n",
    "print(inv_count.all())"
   ]
  },
  {
   "cell_type": "code",
   "execution_count": 41,
   "id": "4ca76872",
   "metadata": {},
   "outputs": [
    {
     "name": "stdout",
     "output_type": "stream",
     "text": [
      "2025-05-22 11:49:25,173 INFO sqlalchemy.engine.Engine SELECT count(*) AS count_1 \n",
      "FROM (SELECT sum(cookies.quantity) AS sum_1 \n",
      "FROM cookies) AS anon_1\n",
      "2025-05-22 11:49:25,175 INFO sqlalchemy.engine.Engine [generated in 0.00238s] ()\n",
      "1\n"
     ]
    }
   ],
   "source": [
    "inv_count = session.query(func.sum(Cookie.quantity))\n",
    "print(inv_count.count())"
   ]
  },
  {
   "cell_type": "code",
   "execution_count": 43,
   "id": "59ce868c",
   "metadata": {},
   "outputs": [
    {
     "name": "stdout",
     "output_type": "stream",
     "text": [
      "2025-05-22 11:50:33,992 INFO sqlalchemy.engine.Engine SELECT count(cookies.cookie_name) AS count_1 \n",
      "FROM cookies\n",
      "2025-05-22 11:50:33,993 INFO sqlalchemy.engine.Engine [generated in 0.00161s] ()\n",
      "5\n"
     ]
    }
   ],
   "source": [
    "cnt = session.query(func.count(Cookie.cookie_name)).scalar()\n",
    "print(cnt)"
   ]
  },
  {
   "cell_type": "code",
   "execution_count": 44,
   "id": "c6dcdeb1",
   "metadata": {},
   "outputs": [
    {
     "name": "stdout",
     "output_type": "stream",
     "text": [
      "2025-05-22 11:52:11,158 INFO sqlalchemy.engine.Engine SELECT count(cookies.cookie_name) AS inv_count \n",
      "FROM cookies\n",
      " LIMIT ? OFFSET ?\n",
      "2025-05-22 11:52:11,160 INFO sqlalchemy.engine.Engine [generated in 0.00197s] (1, 0)\n",
      "{'inv_count': 0, <sqlalchemy.sql.elements.Label at 0x7f657932c830; inv_count>: 0}\n"
     ]
    }
   ],
   "source": [
    "cnt = session.query(func.count(Cookie.cookie_name).label(\"inv_count\")).first()\n",
    "print(cnt._key_to_index)"
   ]
  },
  {
   "cell_type": "code",
   "execution_count": 46,
   "id": "794eb6b4",
   "metadata": {},
   "outputs": [
    {
     "data": {
      "text/plain": [
       "5"
      ]
     },
     "execution_count": 46,
     "metadata": {},
     "output_type": "execute_result"
    }
   ],
   "source": [
    "cnt.inv_count"
   ]
  },
  {
   "cell_type": "code",
   "execution_count": 48,
   "id": "b9cda35a",
   "metadata": {},
   "outputs": [
    {
     "name": "stdout",
     "output_type": "stream",
     "text": [
      "2025-05-22 11:54:00,632 INFO sqlalchemy.engine.Engine SELECT cookies.cookie_id AS cookies_cookie_id, cookies.cookie_name AS cookies_cookie_name, cookies.cookie_recipe_url AS cookies_cookie_recipe_url, cookies.cookie_sku AS cookies_cookie_sku, cookies.quantity AS cookies_quantity, cookies.unit_cost AS cookies_unit_cost \n",
      "FROM cookies \n",
      "WHERE cookies.cookie_name = ?\n",
      " LIMIT ? OFFSET ?\n",
      "2025-05-22 11:54:00,634 INFO sqlalchemy.engine.Engine [generated in 0.00190s] ('chocolate chip', 1, 0)\n",
      "Cookie(cookie_name=chocolate chip,cookie_recipe_url=http://some.aweso.me/cookie/recippe.html,cookie_skue=cc01,quantity=12,unit_cost=0.50)\n"
     ]
    }
   ],
   "source": [
    "rec = session.query(Cookie).filter(Cookie.cookie_name == \"chocolate chip\").first()\n",
    "print(rec)"
   ]
  },
  {
   "cell_type": "code",
   "execution_count": 49,
   "id": "1c517737",
   "metadata": {},
   "outputs": [
    {
     "name": "stdout",
     "output_type": "stream",
     "text": [
      "2025-05-22 14:09:45,675 INFO sqlalchemy.engine.Engine SELECT cookies.cookie_id AS cookies_cookie_id, cookies.cookie_name AS cookies_cookie_name, cookies.cookie_recipe_url AS cookies_cookie_recipe_url, cookies.cookie_sku AS cookies_cookie_sku, cookies.quantity AS cookies_quantity, cookies.unit_cost AS cookies_unit_cost \n",
      "FROM cookies \n",
      "WHERE cookies.cookie_name = ?\n",
      " LIMIT ? OFFSET ?\n",
      "2025-05-22 14:09:45,677 INFO sqlalchemy.engine.Engine [cached since 7920s ago] ('chocolate chip', 1, 0)\n",
      "Cookie(cookie_name=chocolate chip,cookie_recipe_url=http://some.aweso.me/cookie/recippe.html,cookie_skue=cc01,quantity=12,unit_cost=0.50)\n"
     ]
    }
   ],
   "source": [
    "rec = session.query(Cookie).filter_by(cookie_name=\"chocolate chip\").first()\n",
    "print(rec)"
   ]
  },
  {
   "cell_type": "code",
   "execution_count": 50,
   "id": "aae81362",
   "metadata": {},
   "outputs": [
    {
     "name": "stdout",
     "output_type": "stream",
     "text": [
      "2025-05-22 14:11:11,809 INFO sqlalchemy.engine.Engine SELECT cookies.cookie_id AS cookies_cookie_id, cookies.cookie_name AS cookies_cookie_name, cookies.cookie_recipe_url AS cookies_cookie_recipe_url, cookies.cookie_sku AS cookies_cookie_sku, cookies.quantity AS cookies_quantity, cookies.unit_cost AS cookies_unit_cost \n",
      "FROM cookies \n",
      "WHERE cookies.cookie_name LIKE ?\n",
      "2025-05-22 14:11:11,811 INFO sqlalchemy.engine.Engine [generated in 0.00220s] ('%chocolate%',)\n",
      "chocolate chip\n",
      "dark chocolate chip\n"
     ]
    }
   ],
   "source": [
    "query = session.query(Cookie).filter(Cookie.cookie_name.like(\"%chocolate%\"))\n",
    "for row in query:\n",
    "    print(row.cookie_name)"
   ]
  }
 ],
 "metadata": {
  "kernelspec": {
   "display_name": "learnpython",
   "language": "python",
   "name": "python3"
  },
  "language_info": {
   "codemirror_mode": {
    "name": "ipython",
    "version": 3
   },
   "file_extension": ".py",
   "mimetype": "text/x-python",
   "name": "python",
   "nbconvert_exporter": "python",
   "pygments_lexer": "ipython3",
   "version": "3.13.2"
  }
 },
 "nbformat": 4,
 "nbformat_minor": 5
}
