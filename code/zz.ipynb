{
 "cells": [
  {
   "cell_type": "code",
   "execution_count": 6,
   "metadata": {},
   "outputs": [],
   "source": [
    "import numpy as np\n",
    "import pandas as pd\n",
    "import seaborn as sns\n",
    "import matplotlib.pyplot as plt"
   ]
  },
  {
   "cell_type": "code",
   "execution_count": 7,
   "metadata": {},
   "outputs": [
    {
     "data": {
      "application/vnd.microsoft.datawrangler.viewer.v0+json": {
       "columns": [
        {
         "name": "index",
         "rawType": "int64",
         "type": "integer"
        },
        {
         "name": "Overall rank",
         "rawType": "int64",
         "type": "integer"
        },
        {
         "name": "Country or region",
         "rawType": "object",
         "type": "string"
        },
        {
         "name": "Score",
         "rawType": "float64",
         "type": "float"
        },
        {
         "name": "GDP per capita",
         "rawType": "float64",
         "type": "float"
        },
        {
         "name": "Social support",
         "rawType": "float64",
         "type": "float"
        },
        {
         "name": "Healthy life expectancy",
         "rawType": "float64",
         "type": "float"
        },
        {
         "name": "Freedom to make life choices",
         "rawType": "float64",
         "type": "float"
        },
        {
         "name": "Generosity",
         "rawType": "float64",
         "type": "float"
        },
        {
         "name": "Perceptions of corruption",
         "rawType": "float64",
         "type": "float"
        }
       ],
       "conversionMethod": "pd.DataFrame",
       "ref": "7a3ad8f6-f15e-45a9-9510-bbe4efbf7f4b",
       "rows": [
        [
         "0",
         "1",
         "Finland",
         "7.769",
         "1.34",
         "1.587",
         "0.986",
         "0.596",
         "0.153",
         "0.393"
        ],
        [
         "1",
         "2",
         "Denmark",
         "7.6",
         "1.383",
         "1.573",
         "0.996",
         "0.592",
         "0.252",
         "0.41"
        ],
        [
         "2",
         "3",
         "Norway",
         "7.554",
         "1.488",
         "1.582",
         "1.028",
         "0.603",
         "0.271",
         "0.341"
        ],
        [
         "3",
         "4",
         "Iceland",
         "7.494",
         "1.38",
         "1.624",
         "1.026",
         "0.591",
         "0.354",
         "0.118"
        ],
        [
         "4",
         "5",
         "Netherlands",
         "7.488",
         "1.396",
         "1.522",
         "0.999",
         "0.557",
         "0.322",
         "0.298"
        ]
       ],
       "shape": {
        "columns": 9,
        "rows": 5
       }
      },
      "text/html": [
       "<div>\n",
       "<style scoped>\n",
       "    .dataframe tbody tr th:only-of-type {\n",
       "        vertical-align: middle;\n",
       "    }\n",
       "\n",
       "    .dataframe tbody tr th {\n",
       "        vertical-align: top;\n",
       "    }\n",
       "\n",
       "    .dataframe thead th {\n",
       "        text-align: right;\n",
       "    }\n",
       "</style>\n",
       "<table border=\"1\" class=\"dataframe\">\n",
       "  <thead>\n",
       "    <tr style=\"text-align: right;\">\n",
       "      <th></th>\n",
       "      <th>Overall rank</th>\n",
       "      <th>Country or region</th>\n",
       "      <th>Score</th>\n",
       "      <th>GDP per capita</th>\n",
       "      <th>Social support</th>\n",
       "      <th>Healthy life expectancy</th>\n",
       "      <th>Freedom to make life choices</th>\n",
       "      <th>Generosity</th>\n",
       "      <th>Perceptions of corruption</th>\n",
       "    </tr>\n",
       "  </thead>\n",
       "  <tbody>\n",
       "    <tr>\n",
       "      <th>0</th>\n",
       "      <td>1</td>\n",
       "      <td>Finland</td>\n",
       "      <td>7.769</td>\n",
       "      <td>1.340</td>\n",
       "      <td>1.587</td>\n",
       "      <td>0.986</td>\n",
       "      <td>0.596</td>\n",
       "      <td>0.153</td>\n",
       "      <td>0.393</td>\n",
       "    </tr>\n",
       "    <tr>\n",
       "      <th>1</th>\n",
       "      <td>2</td>\n",
       "      <td>Denmark</td>\n",
       "      <td>7.600</td>\n",
       "      <td>1.383</td>\n",
       "      <td>1.573</td>\n",
       "      <td>0.996</td>\n",
       "      <td>0.592</td>\n",
       "      <td>0.252</td>\n",
       "      <td>0.410</td>\n",
       "    </tr>\n",
       "    <tr>\n",
       "      <th>2</th>\n",
       "      <td>3</td>\n",
       "      <td>Norway</td>\n",
       "      <td>7.554</td>\n",
       "      <td>1.488</td>\n",
       "      <td>1.582</td>\n",
       "      <td>1.028</td>\n",
       "      <td>0.603</td>\n",
       "      <td>0.271</td>\n",
       "      <td>0.341</td>\n",
       "    </tr>\n",
       "    <tr>\n",
       "      <th>3</th>\n",
       "      <td>4</td>\n",
       "      <td>Iceland</td>\n",
       "      <td>7.494</td>\n",
       "      <td>1.380</td>\n",
       "      <td>1.624</td>\n",
       "      <td>1.026</td>\n",
       "      <td>0.591</td>\n",
       "      <td>0.354</td>\n",
       "      <td>0.118</td>\n",
       "    </tr>\n",
       "    <tr>\n",
       "      <th>4</th>\n",
       "      <td>5</td>\n",
       "      <td>Netherlands</td>\n",
       "      <td>7.488</td>\n",
       "      <td>1.396</td>\n",
       "      <td>1.522</td>\n",
       "      <td>0.999</td>\n",
       "      <td>0.557</td>\n",
       "      <td>0.322</td>\n",
       "      <td>0.298</td>\n",
       "    </tr>\n",
       "  </tbody>\n",
       "</table>\n",
       "</div>"
      ],
      "text/plain": [
       "   Overall rank Country or region  Score  GDP per capita  Social support  \\\n",
       "0             1           Finland  7.769           1.340           1.587   \n",
       "1             2           Denmark  7.600           1.383           1.573   \n",
       "2             3            Norway  7.554           1.488           1.582   \n",
       "3             4           Iceland  7.494           1.380           1.624   \n",
       "4             5       Netherlands  7.488           1.396           1.522   \n",
       "\n",
       "   Healthy life expectancy  Freedom to make life choices  Generosity  \\\n",
       "0                    0.986                         0.596       0.153   \n",
       "1                    0.996                         0.592       0.252   \n",
       "2                    1.028                         0.603       0.271   \n",
       "3                    1.026                         0.591       0.354   \n",
       "4                    0.999                         0.557       0.322   \n",
       "\n",
       "   Perceptions of corruption  \n",
       "0                      0.393  \n",
       "1                      0.410  \n",
       "2                      0.341  \n",
       "3                      0.118  \n",
       "4                      0.298  "
      ]
     },
     "execution_count": 7,
     "metadata": {},
     "output_type": "execute_result"
    }
   ],
   "source": [
    "df = pd.read_csv(\"../codesample/world-happiness-report/2019.csv\")\n",
    "df.head()"
   ]
  },
  {
   "cell_type": "code",
   "execution_count": 8,
   "metadata": {},
   "outputs": [
    {
     "data": {
      "application/vnd.microsoft.datawrangler.viewer.v0+json": {
       "columns": [
        {
         "name": "index",
         "rawType": "object",
         "type": "string"
        },
        {
         "name": "Overall rank",
         "rawType": "float64",
         "type": "float"
        },
        {
         "name": "Score",
         "rawType": "float64",
         "type": "float"
        },
        {
         "name": "GDP per capita",
         "rawType": "float64",
         "type": "float"
        },
        {
         "name": "Social support",
         "rawType": "float64",
         "type": "float"
        },
        {
         "name": "Healthy life expectancy",
         "rawType": "float64",
         "type": "float"
        },
        {
         "name": "Freedom to make life choices",
         "rawType": "float64",
         "type": "float"
        },
        {
         "name": "Generosity",
         "rawType": "float64",
         "type": "float"
        },
        {
         "name": "Perceptions of corruption",
         "rawType": "float64",
         "type": "float"
        }
       ],
       "conversionMethod": "pd.DataFrame",
       "ref": "0902d737-4459-4424-aee0-dc284c6697c3",
       "rows": [
        [
         "Overall rank",
         "1.0",
         "-0.9890962183233043",
         "-0.8019465355862588",
         "-0.7674653087738499",
         "-0.7874106573506173",
         "-0.5466063956173797",
         "-0.04799261091107459",
         "-0.35195851338710193"
        ],
        [
         "Score",
         "-0.9890962183233043",
         "1.0",
         "0.7938828678781276",
         "0.7770577880638648",
         "0.7798831492425834",
         "0.5667418257199904",
         "0.07582369490389744",
         "0.3856130708664786"
        ],
        [
         "GDP per capita",
         "-0.8019465355862588",
         "0.7938828678781276",
         "1.0",
         "0.7549057272454566",
         "0.8354621150416075",
         "0.37907907217677184",
         "-0.0796623134897632",
         "0.29891984568349267"
        ],
        [
         "Social support",
         "-0.7674653087738499",
         "0.7770577880638648",
         "0.7549057272454566",
         "1.0",
         "0.7190094590308563",
         "0.447333163587702",
         "-0.04812645445432564",
         "0.18189946470087068"
        ],
        [
         "Healthy life expectancy",
         "-0.7874106573506173",
         "0.7798831492425834",
         "0.8354621150416075",
         "0.7190094590308563",
         "1.0",
         "0.3903947764769577",
         "-0.029510859651601263",
         "0.29528281242267956"
        ],
        [
         "Freedom to make life choices",
         "-0.5466063956173797",
         "0.5667418257199904",
         "0.37907907217677184",
         "0.447333163587702",
         "0.3903947764769577",
         "1.0",
         "0.2697418140765443",
         "0.43884330641506736"
        ],
        [
         "Generosity",
         "-0.04799261091107459",
         "0.07582369490389744",
         "-0.0796623134897632",
         "-0.04812645445432564",
         "-0.029510859651601263",
         "0.2697418140765443",
         "1.0",
         "0.32653754340500785"
        ],
        [
         "Perceptions of corruption",
         "-0.35195851338710193",
         "0.3856130708664786",
         "0.29891984568349267",
         "0.18189946470087068",
         "0.29528281242267956",
         "0.43884330641506736",
         "0.32653754340500785",
         "1.0"
        ]
       ],
       "shape": {
        "columns": 8,
        "rows": 8
       }
      },
      "text/html": [
       "<div>\n",
       "<style scoped>\n",
       "    .dataframe tbody tr th:only-of-type {\n",
       "        vertical-align: middle;\n",
       "    }\n",
       "\n",
       "    .dataframe tbody tr th {\n",
       "        vertical-align: top;\n",
       "    }\n",
       "\n",
       "    .dataframe thead th {\n",
       "        text-align: right;\n",
       "    }\n",
       "</style>\n",
       "<table border=\"1\" class=\"dataframe\">\n",
       "  <thead>\n",
       "    <tr style=\"text-align: right;\">\n",
       "      <th></th>\n",
       "      <th>Overall rank</th>\n",
       "      <th>Score</th>\n",
       "      <th>GDP per capita</th>\n",
       "      <th>Social support</th>\n",
       "      <th>Healthy life expectancy</th>\n",
       "      <th>Freedom to make life choices</th>\n",
       "      <th>Generosity</th>\n",
       "      <th>Perceptions of corruption</th>\n",
       "    </tr>\n",
       "  </thead>\n",
       "  <tbody>\n",
       "    <tr>\n",
       "      <th>Overall rank</th>\n",
       "      <td>1.000000</td>\n",
       "      <td>-0.989096</td>\n",
       "      <td>-0.801947</td>\n",
       "      <td>-0.767465</td>\n",
       "      <td>-0.787411</td>\n",
       "      <td>-0.546606</td>\n",
       "      <td>-0.047993</td>\n",
       "      <td>-0.351959</td>\n",
       "    </tr>\n",
       "    <tr>\n",
       "      <th>Score</th>\n",
       "      <td>-0.989096</td>\n",
       "      <td>1.000000</td>\n",
       "      <td>0.793883</td>\n",
       "      <td>0.777058</td>\n",
       "      <td>0.779883</td>\n",
       "      <td>0.566742</td>\n",
       "      <td>0.075824</td>\n",
       "      <td>0.385613</td>\n",
       "    </tr>\n",
       "    <tr>\n",
       "      <th>GDP per capita</th>\n",
       "      <td>-0.801947</td>\n",
       "      <td>0.793883</td>\n",
       "      <td>1.000000</td>\n",
       "      <td>0.754906</td>\n",
       "      <td>0.835462</td>\n",
       "      <td>0.379079</td>\n",
       "      <td>-0.079662</td>\n",
       "      <td>0.298920</td>\n",
       "    </tr>\n",
       "    <tr>\n",
       "      <th>Social support</th>\n",
       "      <td>-0.767465</td>\n",
       "      <td>0.777058</td>\n",
       "      <td>0.754906</td>\n",
       "      <td>1.000000</td>\n",
       "      <td>0.719009</td>\n",
       "      <td>0.447333</td>\n",
       "      <td>-0.048126</td>\n",
       "      <td>0.181899</td>\n",
       "    </tr>\n",
       "    <tr>\n",
       "      <th>Healthy life expectancy</th>\n",
       "      <td>-0.787411</td>\n",
       "      <td>0.779883</td>\n",
       "      <td>0.835462</td>\n",
       "      <td>0.719009</td>\n",
       "      <td>1.000000</td>\n",
       "      <td>0.390395</td>\n",
       "      <td>-0.029511</td>\n",
       "      <td>0.295283</td>\n",
       "    </tr>\n",
       "    <tr>\n",
       "      <th>Freedom to make life choices</th>\n",
       "      <td>-0.546606</td>\n",
       "      <td>0.566742</td>\n",
       "      <td>0.379079</td>\n",
       "      <td>0.447333</td>\n",
       "      <td>0.390395</td>\n",
       "      <td>1.000000</td>\n",
       "      <td>0.269742</td>\n",
       "      <td>0.438843</td>\n",
       "    </tr>\n",
       "    <tr>\n",
       "      <th>Generosity</th>\n",
       "      <td>-0.047993</td>\n",
       "      <td>0.075824</td>\n",
       "      <td>-0.079662</td>\n",
       "      <td>-0.048126</td>\n",
       "      <td>-0.029511</td>\n",
       "      <td>0.269742</td>\n",
       "      <td>1.000000</td>\n",
       "      <td>0.326538</td>\n",
       "    </tr>\n",
       "    <tr>\n",
       "      <th>Perceptions of corruption</th>\n",
       "      <td>-0.351959</td>\n",
       "      <td>0.385613</td>\n",
       "      <td>0.298920</td>\n",
       "      <td>0.181899</td>\n",
       "      <td>0.295283</td>\n",
       "      <td>0.438843</td>\n",
       "      <td>0.326538</td>\n",
       "      <td>1.000000</td>\n",
       "    </tr>\n",
       "  </tbody>\n",
       "</table>\n",
       "</div>"
      ],
      "text/plain": [
       "                              Overall rank     Score  GDP per capita  \\\n",
       "Overall rank                      1.000000 -0.989096       -0.801947   \n",
       "Score                            -0.989096  1.000000        0.793883   \n",
       "GDP per capita                   -0.801947  0.793883        1.000000   \n",
       "Social support                   -0.767465  0.777058        0.754906   \n",
       "Healthy life expectancy          -0.787411  0.779883        0.835462   \n",
       "Freedom to make life choices     -0.546606  0.566742        0.379079   \n",
       "Generosity                       -0.047993  0.075824       -0.079662   \n",
       "Perceptions of corruption        -0.351959  0.385613        0.298920   \n",
       "\n",
       "                              Social support  Healthy life expectancy  \\\n",
       "Overall rank                       -0.767465                -0.787411   \n",
       "Score                               0.777058                 0.779883   \n",
       "GDP per capita                      0.754906                 0.835462   \n",
       "Social support                      1.000000                 0.719009   \n",
       "Healthy life expectancy             0.719009                 1.000000   \n",
       "Freedom to make life choices        0.447333                 0.390395   \n",
       "Generosity                         -0.048126                -0.029511   \n",
       "Perceptions of corruption           0.181899                 0.295283   \n",
       "\n",
       "                              Freedom to make life choices  Generosity  \\\n",
       "Overall rank                                     -0.546606   -0.047993   \n",
       "Score                                             0.566742    0.075824   \n",
       "GDP per capita                                    0.379079   -0.079662   \n",
       "Social support                                    0.447333   -0.048126   \n",
       "Healthy life expectancy                           0.390395   -0.029511   \n",
       "Freedom to make life choices                      1.000000    0.269742   \n",
       "Generosity                                        0.269742    1.000000   \n",
       "Perceptions of corruption                         0.438843    0.326538   \n",
       "\n",
       "                              Perceptions of corruption  \n",
       "Overall rank                                  -0.351959  \n",
       "Score                                          0.385613  \n",
       "GDP per capita                                 0.298920  \n",
       "Social support                                 0.181899  \n",
       "Healthy life expectancy                        0.295283  \n",
       "Freedom to make life choices                   0.438843  \n",
       "Generosity                                     0.326538  \n",
       "Perceptions of corruption                      1.000000  "
      ]
     },
     "execution_count": 8,
     "metadata": {},
     "output_type": "execute_result"
    }
   ],
   "source": [
    "df.corr(numeric_only=True)"
   ]
  },
  {
   "cell_type": "code",
   "execution_count": 9,
   "metadata": {},
   "outputs": [
    {
     "data": {
      "text/plain": [
       "<Axes: >"
      ]
     },
     "execution_count": 9,
     "metadata": {},
     "output_type": "execute_result"
    },
    {
     "data": {
      "image/png": "[encoded data removed]",
      "text/plain": [
       "<Figure size 1000x1000 with 2 Axes>"
      ]
     },
     "metadata": {},
     "output_type": "display_data"
    }
   ],
   "source": [
    "# Plotting the correlation matrix\n",
    "plt.figure(figsize=(10, 10))\n",
    "sns.heatmap(df.corr(numeric_only=True), annot=True, cmap=\"coolwarm\")\n",
    "# plt.show()"
   ]
  },
  {
   "cell_type": "code",
   "execution_count": null,
   "metadata": {},
   "outputs": [],
   "source": []
  }
 ],
 "metadata": {
  "kernelspec": {
   "display_name": "learnpython",
   "language": "python",
   "name": "python3"
  },
  "language_info": {
   "codemirror_mode": {
    "name": "ipython",
    "version": 3
   },
   "file_extension": ".py",
   "mimetype": "text/x-python",
   "name": "python",
   "nbconvert_exporter": "python",
   "pygments_lexer": "ipython3",
   "version": "3.13.2"
  }
 },
 "nbformat": 4,
 "nbformat_minor": 2
}
