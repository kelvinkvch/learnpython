{
 "cells": [
  {
   "cell_type": "code",
   "execution_count": 107,
   "id": "1ad383a5",
   "metadata": {},
   "outputs": [],
   "source": [
    "import sqlite3"
   ]
  },
  {
   "cell_type": "code",
   "execution_count": 108,
   "id": "ecff54ab",
   "metadata": {},
   "outputs": [],
   "source": [
    "class Mysqlite(object):\n",
    "    def __init__(self):\n",
    "        db = \"app.sqlite\"\n",
    "        self.conn = sqlite3.connect(db)\n",
    "\n",
    "    def close(self):\n",
    "        # self.conn.commit()\n",
    "        self.conn.close()"
   ]
  },
  {
   "cell_type": "code",
   "execution_count": 109,
   "id": "92a24157",
   "metadata": {},
   "outputs": [],
   "source": [
    "if __name__ == \"__main__\":\n",
    "    conn = Mysqlite().conn\n",
    "    c = conn.cursor()\n",
    "    sql = \"\"\"create table if not exists user\n",
    "    (id int primary key not null,\n",
    "    name text not null,\n",
    "    age int not null);\n",
    "    \"\"\"\n",
    "    c.execute(sql)\n",
    "    conn.commit()\n",
    "    c.close()\n",
    "    conn.close()"
   ]
  },
  {
   "cell_type": "code",
   "execution_count": 110,
   "id": "7d77c105",
   "metadata": {},
   "outputs": [],
   "source": [
    "if __name__ == \"__main__\":\n",
    "    conn = Mysqlite().conn\n",
    "    c = conn.cursor()\n",
    "    sql = \"insert into user(id,name,age) values(3,'zhangsan',23)\"\n",
    "    try:\n",
    "        c.execute(sql)\n",
    "        conn.commit()\n",
    "    except Exception as e:\n",
    "        conn.rollback()\n",
    "        print(\"it's fail\")\n",
    "    c.close()\n",
    "    conn.close()"
   ]
  },
  {
   "cell_type": "code",
   "execution_count": 111,
   "id": "f13f427c",
   "metadata": {},
   "outputs": [],
   "source": [
    "if __name__ == \"__main__\":\n",
    "    conn = Mysqlite().conn\n",
    "    c = conn.cursor()\n",
    "    data = [(4, \"zhaoyun\", 11), (5, \"lisi\", 12), (6, \"wangwu\", 13)]\n",
    "    try:\n",
    "        c.executemany(\"insert into user (id,name,age) values(?,?,?)\", data)\n",
    "        conn.commit()\n",
    "    except Exception as e:\n",
    "        conn.rollback()\n",
    "        print(\"it's fail\")\n",
    "        print(e)\n",
    "    c.close()\n",
    "    conn.close()"
   ]
  },
  {
   "cell_type": "code",
   "execution_count": 112,
   "id": "56c5bd8a",
   "metadata": {},
   "outputs": [
    {
     "name": "stdout",
     "output_type": "stream",
     "text": [
      "[(3, 'zhangsan', 23)]\n"
     ]
    }
   ],
   "source": [
    "if __name__ == \"__main__\":\n",
    "    conn = Mysqlite().conn\n",
    "    c = conn.cursor()\n",
    "\n",
    "    id = 3\n",
    "    sql = \"select * from user where id={}\"\n",
    "    c.execute(sql.format(id))\n",
    "    result = c.fetchall()\n",
    "    print(result)\n",
    "    c.close()\n",
    "    conn.close()"
   ]
  },
  {
   "cell_type": "code",
   "execution_count": 113,
   "id": "3b3a0559",
   "metadata": {},
   "outputs": [
    {
     "name": "stdout",
     "output_type": "stream",
     "text": [
      "[(3, 'zhangsan', 23), (4, 'zhaoyun', 11), (5, 'lisi', 12), (6, 'wangwu', 13)]\n"
     ]
    }
   ],
   "source": [
    "if __name__ == \"__main__\":\n",
    "    conn = Mysqlite().conn\n",
    "    c = conn.cursor()\n",
    "    sql = \"select * from user\"\n",
    "\n",
    "    c.execute(sql)\n",
    "    result = c.fetchall()\n",
    "    print(result)\n",
    "    c.close()\n",
    "    conn.close()"
   ]
  },
  {
   "cell_type": "code",
   "execution_count": 116,
   "id": "23b316e4",
   "metadata": {},
   "outputs": [
    {
     "name": "stdout",
     "output_type": "stream",
     "text": [
      "update user set name='tom',age=28 where id=3\n",
      "[(3, 'tom', 28), (4, 'zhaoyun', 11), (5, 'lisi', 12), (6, 'wangwu', 13)]\n"
     ]
    }
   ],
   "source": [
    "if __name__ == \"__main__\":\n",
    "\n",
    "    conn = Mysqlite().conn\n",
    "    sql = \"update user set name='{}',age={} where id={}\"\n",
    "    sql = sql.format(\"tom\", 28, 3)\n",
    "    print(sql)\n",
    "    c = conn.cursor()\n",
    "    c.execute(sql)\n",
    "    conn.commit()\n",
    "    c.execute(\"select * from user\")\n",
    "    result = c.fetchall()\n",
    "    print(result)\n",
    "    c.close()\n",
    "    conn.close()"
   ]
  },
  {
   "cell_type": "code",
   "execution_count": 117,
   "id": "ece72dba",
   "metadata": {},
   "outputs": [
    {
     "name": "stdout",
     "output_type": "stream",
     "text": [
      "[(4, 'zhaoyun', 11), (5, 'lisi', 12), (6, 'wangwu', 13)]\n"
     ]
    }
   ],
   "source": [
    "if __name__ == \"__main__\":\n",
    "    conn = Mysqlite().conn\n",
    "    c = conn.cursor()\n",
    "    id = 3\n",
    "    sql = \"delete from user where id={}\"\n",
    "    sql = sql.format(id)\n",
    "    c.execute(sql)\n",
    "    conn.commit()\n",
    "\n",
    "    c.execute(\"select * from user\")\n",
    "    result = c.fetchall()\n",
    "    print(result)\n",
    "    c.close()\n",
    "    conn.close()"
   ]
  }
 ],
 "metadata": {
  "kernelspec": {
   "display_name": "learnpython",
   "language": "python",
   "name": "python3"
  },
  "language_info": {
   "codemirror_mode": {
    "name": "ipython",
    "version": 3
   },
   "file_extension": ".py",
   "mimetype": "text/x-python",
   "name": "python",
   "nbconvert_exporter": "python",
   "pygments_lexer": "ipython3",
   "version": "3.13.2"
  }
 },
 "nbformat": 4,
 "nbformat_minor": 5
}
