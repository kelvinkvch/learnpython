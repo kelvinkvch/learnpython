{
 "cells": [
  {
   "cell_type": "code",
   "execution_count": 1,
   "id": "ab3f706f",
   "metadata": {},
   "outputs": [],
   "source": [
    "from sqlalchemy import create_engine"
   ]
  },
  {
   "cell_type": "code",
   "execution_count": 2,
   "id": "771baebe",
   "metadata": {},
   "outputs": [],
   "source": [
    "engine = create_engine(\n",
    "    \"sqlite:///../output/zoo.db\", echo=True, connect_args={\"check_same_thread\": False}\n",
    ")"
   ]
  },
  {
   "cell_type": "code",
   "execution_count": 3,
   "id": "c9b582cc",
   "metadata": {},
   "outputs": [],
   "source": [
    "from sqlalchemy import MetaData\n",
    "from sqlalchemy import Table, Column, Integer, Numeric, String, ForeignKey, Boolean\n",
    "\n",
    "metadata = MetaData()"
   ]
  },
  {
   "cell_type": "code",
   "execution_count": 4,
   "id": "d0aa7bc8",
   "metadata": {},
   "outputs": [
    {
     "name": "stdout",
     "output_type": "stream",
     "text": [
      "2025-05-06 14:28:13,914 INFO sqlalchemy.engine.Engine BEGIN (implicit)\n",
      "2025-05-06 14:28:13,915 INFO sqlalchemy.engine.Engine PRAGMA main.table_info(\"cookies\")\n",
      "2025-05-06 14:28:13,916 INFO sqlalchemy.engine.Engine [raw sql] ()\n",
      "2025-05-06 14:28:13,917 INFO sqlalchemy.engine.Engine PRAGMA temp.table_info(\"cookies\")\n",
      "2025-05-06 14:28:13,918 INFO sqlalchemy.engine.Engine [raw sql] ()\n",
      "2025-05-06 14:28:13,918 INFO sqlalchemy.engine.Engine PRAGMA main.table_info(\"users\")\n",
      "2025-05-06 14:28:13,919 INFO sqlalchemy.engine.Engine [raw sql] ()\n",
      "2025-05-06 14:28:13,920 INFO sqlalchemy.engine.Engine PRAGMA temp.table_info(\"users\")\n",
      "2025-05-06 14:28:13,921 INFO sqlalchemy.engine.Engine [raw sql] ()\n",
      "2025-05-06 14:28:13,922 INFO sqlalchemy.engine.Engine PRAGMA main.table_info(\"orders\")\n",
      "2025-05-06 14:28:13,922 INFO sqlalchemy.engine.Engine [raw sql] ()\n",
      "2025-05-06 14:28:13,923 INFO sqlalchemy.engine.Engine PRAGMA temp.table_info(\"orders\")\n",
      "2025-05-06 14:28:13,923 INFO sqlalchemy.engine.Engine [raw sql] ()\n",
      "2025-05-06 14:28:13,924 INFO sqlalchemy.engine.Engine PRAGMA main.table_info(\"line_items\")\n",
      "2025-05-06 14:28:13,925 INFO sqlalchemy.engine.Engine [raw sql] ()\n",
      "2025-05-06 14:28:13,927 INFO sqlalchemy.engine.Engine PRAGMA temp.table_info(\"line_items\")\n",
      "2025-05-06 14:28:13,928 INFO sqlalchemy.engine.Engine [raw sql] ()\n",
      "2025-05-06 14:28:13,930 INFO sqlalchemy.engine.Engine \n",
      "CREATE TABLE cookies (\n",
      "\tcookie_id INTEGER NOT NULL, \n",
      "\tcookie_name VARCHAR(50), \n",
      "\tcookie_url VARCHAR(255), \n",
      "\tcookie_sku VARCHAR(55), \n",
      "\tquantity INTEGER, \n",
      "\tunit_cost NUMERIC(12, 2), \n",
      "\tPRIMARY KEY (cookie_id)\n",
      ")\n",
      "\n",
      "\n",
      "2025-05-06 14:28:13,931 INFO sqlalchemy.engine.Engine [no key 0.00081s] ()\n",
      "2025-05-06 14:28:14,148 INFO sqlalchemy.engine.Engine CREATE INDEX ix_cookies_cookie_name ON cookies (cookie_name)\n",
      "2025-05-06 14:28:14,149 INFO sqlalchemy.engine.Engine [no key 0.00077s] ()\n",
      "2025-05-06 14:28:14,334 INFO sqlalchemy.engine.Engine \n",
      "CREATE TABLE users (\n",
      "\tuser_id INTEGER NOT NULL, \n",
      "\tusername VARCHAR(15) NOT NULL, \n",
      "\temail_address VARCHAR(255) NOT NULL, \n",
      "\tphone VARCHAR(20) NOT NULL, \n",
      "\tpassword VARCHAR(25) NOT NULL, \n",
      "\tcreate_on DATETIME, \n",
      "\tupdate_on DATETIME, \n",
      "\tPRIMARY KEY (user_id), \n",
      "\tUNIQUE (username)\n",
      ")\n",
      "\n",
      "\n",
      "2025-05-06 14:28:14,334 INFO sqlalchemy.engine.Engine [no key 0.00064s] ()\n",
      "2025-05-06 14:28:14,452 INFO sqlalchemy.engine.Engine \n",
      "CREATE TABLE orders (\n",
      "\torder_id INTEGER NOT NULL, \n",
      "\tuser_id INTEGER, \n",
      "\tshipped BOOLEAN, \n",
      "\tPRIMARY KEY (order_id), \n",
      "\tFOREIGN KEY(user_id) REFERENCES users (user_id)\n",
      ")\n",
      "\n",
      "\n",
      "2025-05-06 14:28:14,453 INFO sqlalchemy.engine.Engine [no key 0.00105s] ()\n",
      "2025-05-06 14:28:14,570 INFO sqlalchemy.engine.Engine \n",
      "CREATE TABLE line_items (\n",
      "\tline_id INTEGER NOT NULL, \n",
      "\torder_id INTEGER, \n",
      "\tcookie_id INTEGER, \n",
      "\tquantity INTEGER, \n",
      "\textended_cost NUMERIC(12, 2), \n",
      "\tPRIMARY KEY (line_id), \n",
      "\tFOREIGN KEY(order_id) REFERENCES orders (order_id), \n",
      "\tFOREIGN KEY(cookie_id) REFERENCES cookies (cookie_id)\n",
      ")\n",
      "\n",
      "\n",
      "2025-05-06 14:28:14,570 INFO sqlalchemy.engine.Engine [no key 0.00048s] ()\n",
      "2025-05-06 14:28:14,678 INFO sqlalchemy.engine.Engine COMMIT\n"
     ]
    }
   ],
   "source": [
    "cookies = Table(\n",
    "    \"cookies\",\n",
    "    metadata,\n",
    "    Column(\"cookie_id\", Integer(), primary_key=True),\n",
    "    Column(\"cookie_name\", String(50), index=True),\n",
    "    Column(\"cookie_url\", String(255)),\n",
    "    Column(\"cookie_sku\", String(55)),\n",
    "    Column(\"quantity\", Integer()),\n",
    "    Column(\"unit_cost\", Numeric(12, 2)),\n",
    ")\n",
    "from datetime import datetime\n",
    "from sqlalchemy import DateTime\n",
    "\n",
    "users = Table(\n",
    "    \"users\",\n",
    "    metadata,\n",
    "    Column(\"user_id\", Integer(), primary_key=True),\n",
    "    Column(\"username\", String(15), nullable=False, unique=True),\n",
    "    Column(\"email_address\", String(255), nullable=False),\n",
    "    Column(\"phone\", String(20), nullable=False),\n",
    "    Column(\"password\", String(25), nullable=False),\n",
    "    Column(\"create_on\", DateTime(), default=datetime.now),\n",
    "    Column(\"update_on\", DateTime(), default=datetime.now, onupdate=datetime.now),\n",
    ")\n",
    "from sqlalchemy import ForeignKey, Boolean\n",
    "\n",
    "orders = Table(\n",
    "    \"orders\",\n",
    "    metadata,\n",
    "    Column(\"order_id\", Integer(), primary_key=True),\n",
    "    Column(\"user_id\", ForeignKey(\"users.user_id\")),\n",
    "    Column(\"shipped\", Boolean(), default=False),\n",
    ")\n",
    "line_items = Table(\n",
    "    \"line_items\",\n",
    "    metadata,\n",
    "    Column(\"line_id\", Integer(), primary_key=True),\n",
    "    Column(\"order_id\", ForeignKey(\"orders.order_id\")),\n",
    "    Column(\"cookie_id\", ForeignKey(\"cookies.cookie_id\")),\n",
    "    Column(\"quantity\", Integer()),\n",
    "    Column(\"extended_cost\", Numeric(12, 2)),\n",
    ")\n",
    "metadata.create_all(engine)"
   ]
  },
  {
   "cell_type": "code",
   "execution_count": 5,
   "id": "21e4dfef",
   "metadata": {},
   "outputs": [
    {
     "name": "stdout",
     "output_type": "stream",
     "text": [
      "INSERT INTO cookies (cookie_name, cookie_url, cookie_sku, quantity, unit_cost) VALUES (:cookie_name, :cookie_url, :cookie_sku, :quantity, :unit_cost)\n"
     ]
    }
   ],
   "source": [
    "ins = cookies.insert().values(\n",
    "    cookie_name=\"chocolate chip\",\n",
    "    cookie_url=\"http://some.aweso.me/cookie/recipe.html\",\n",
    "    cookie_sku=\"CC01\",\n",
    "    quantity=\"12\",\n",
    "    unit_cost=\"0.50\",\n",
    ")\n",
    "print(str(ins))"
   ]
  },
  {
   "cell_type": "code",
   "execution_count": 6,
   "id": "0d7075d2",
   "metadata": {},
   "outputs": [],
   "source": [
    "from sqlalchemy import insert"
   ]
  },
  {
   "cell_type": "code",
   "execution_count": 7,
   "id": "5cb1b0f2",
   "metadata": {},
   "outputs": [],
   "source": [
    "ins = insert(cookies).values(\n",
    "    cookie_name=\"chocolate chip\",\n",
    "    cookie_url=\"http://some.aweso.me/cookie/recipe.html\",\n",
    "    cookie_sku=\"CC01\",\n",
    "    quantity=\"12\",\n",
    "    unit_cost=\"0.50\",\n",
    ")"
   ]
  },
  {
   "cell_type": "code",
   "execution_count": 8,
   "id": "223c416a",
   "metadata": {},
   "outputs": [
    {
     "name": "stdout",
     "output_type": "stream",
     "text": [
      "INSERT INTO cookies (cookie_name, cookie_url, cookie_sku, quantity, unit_cost) VALUES (:cookie_name, :cookie_url, :cookie_sku, :quantity, :unit_cost)\n"
     ]
    }
   ],
   "source": [
    "print(str(ins))"
   ]
  },
  {
   "cell_type": "code",
   "execution_count": 9,
   "id": "e4911367",
   "metadata": {},
   "outputs": [
    {
     "name": "stdout",
     "output_type": "stream",
     "text": [
      "2025-05-06 14:28:15,304 INFO sqlalchemy.engine.Engine BEGIN (implicit)\n",
      "2025-05-06 14:28:15,305 INFO sqlalchemy.engine.Engine INSERT INTO cookies (cookie_name, cookie_url, cookie_sku, quantity, unit_cost) VALUES (?, ?, ?, ?, ?)\n",
      "2025-05-06 14:28:15,306 INFO sqlalchemy.engine.Engine [generated in 0.00196s] ('chocolate chip', 'http://some.aweso.me/cookie/recipe.html', 'CC01', '12', 0.5)\n",
      "2025-05-06 14:28:15,307 INFO sqlalchemy.engine.Engine COMMIT\n"
     ]
    }
   ],
   "source": [
    "cnn = engine.connect()\n",
    "cnn.execute(ins)\n",
    "cnn.commit()"
   ]
  },
  {
   "cell_type": "code",
   "execution_count": 10,
   "id": "7d557e19",
   "metadata": {},
   "outputs": [
    {
     "name": "stdout",
     "output_type": "stream",
     "text": [
      "2025-05-06 14:29:57,733 INFO sqlalchemy.engine.Engine BEGIN (implicit)\n",
      "2025-05-06 14:29:57,734 INFO sqlalchemy.engine.Engine INSERT INTO cookies (cookie_name, cookie_url, cookie_sku, quantity, unit_cost) VALUES (?, ?, ?, ?, ?)\n",
      "2025-05-06 14:29:57,735 INFO sqlalchemy.engine.Engine [generated in 0.00226s] [('peanut butter', 'http://some.aweso.me/cookie/recipe.html', 'PB01', '24', 0.25), ('oatmeal raisin', 'http://some.aweso.me/cookie/recipe.html', 'EWW01', '100', 1.0)]\n",
      "2025-05-06 14:29:57,737 INFO sqlalchemy.engine.Engine COMMIT\n"
     ]
    }
   ],
   "source": [
    "inventory_list = [\n",
    "    {\n",
    "        \"cookie_name\": \"peanut butter\",\n",
    "        \"cookie_recipe_url\": \"http://some.aweso.me/cookie/peanut.html\",\n",
    "        \"cookie_sku\": \"PB01\",\n",
    "        \"quantity\": \"24\",\n",
    "        \"unit_cost\": \"0.25\",\n",
    "    },\n",
    "    {\n",
    "        \"cookie_name\": \"oatmeal raisin\",\n",
    "        \"cookie_recipe_url\": \"http://some.okay.me/cookie/raisin.html\",\n",
    "        \"cookie_sku\": \"EWW01\",\n",
    "        \"quantity\": \"100\",\n",
    "        \"unit_cost\": \"1.00\",\n",
    "    },\n",
    "]\n",
    "result = cnn.execute(ins, inventory_list)\n",
    "cnn.commit()"
   ]
  },
  {
   "cell_type": "code",
   "execution_count": 11,
   "id": "15625595",
   "metadata": {},
   "outputs": [
    {
     "name": "stdout",
     "output_type": "stream",
     "text": [
      "2025-05-06 14:30:52,707 INFO sqlalchemy.engine.Engine BEGIN (implicit)\n",
      "2025-05-06 14:30:52,710 INFO sqlalchemy.engine.Engine SELECT cookies.cookie_id, cookies.cookie_name, cookies.cookie_url, cookies.cookie_sku, cookies.quantity, cookies.unit_cost \n",
      "FROM cookies\n",
      "2025-05-06 14:30:52,711 INFO sqlalchemy.engine.Engine [generated in 0.00391s] ()\n",
      "[(1, 'chocolate chip', 'http://some.aweso.me/cookie/recipe.html', 'CC01', 12, Decimal('0.50')), (2, 'peanut butter', 'http://some.aweso.me/cookie/recipe.html', 'PB01', 24, Decimal('0.25')), (3, 'oatmeal raisin', 'http://some.aweso.me/cookie/recipe.html', 'EWW01', 100, Decimal('1.00'))]\n"
     ]
    }
   ],
   "source": [
    "from sqlalchemy.sql import select\n",
    "\n",
    "s = select(cookies)\n",
    "rp = cnn.execute(s)\n",
    "result = rp.fetchall()\n",
    "print(result)"
   ]
  },
  {
   "cell_type": "code",
   "execution_count": 12,
   "id": "e2b053d4",
   "metadata": {},
   "outputs": [
    {
     "data": {
      "text/plain": [
       "'SELECT cookies.cookie_id, cookies.cookie_name, cookies.cookie_url, cookies.cookie_sku, cookies.quantity, cookies.unit_cost \\nFROM cookies'"
      ]
     },
     "execution_count": 12,
     "metadata": {},
     "output_type": "execute_result"
    }
   ],
   "source": [
    "str(s)"
   ]
  },
  {
   "cell_type": "code",
   "execution_count": 21,
   "id": "2ef9dbad",
   "metadata": {},
   "outputs": [
    {
     "name": "stdout",
     "output_type": "stream",
     "text": [
      "2025-05-06 14:34:17,188 INFO sqlalchemy.engine.Engine SELECT cookies.cookie_id, cookies.cookie_name, cookies.cookie_url, cookies.cookie_sku, cookies.quantity, cookies.unit_cost \n",
      "FROM cookies\n",
      "2025-05-06 14:34:17,190 INFO sqlalchemy.engine.Engine [cached since 204.5s ago] ()\n"
     ]
    },
    {
     "data": {
      "text/plain": [
       "[(1, 'chocolate chip', 'http://some.aweso.me/cookie/recipe.html', 'CC01', 12, Decimal('0.50')),\n",
       " (2, 'peanut butter', 'http://some.aweso.me/cookie/recipe.html', 'PB01', 24, Decimal('0.25')),\n",
       " (3, 'oatmeal raisin', 'http://some.aweso.me/cookie/recipe.html', 'EWW01', 100, Decimal('1.00'))]"
      ]
     },
     "execution_count": 21,
     "metadata": {},
     "output_type": "execute_result"
    }
   ],
   "source": [
    "s = cookies.select()\n",
    "rp = cnn.execute(s)\n",
    "# print(rp.fetchall())\n",
    "result = rp.fetchall()\n",
    "result"
   ]
  },
  {
   "cell_type": "code",
   "execution_count": 23,
   "id": "71790f01",
   "metadata": {},
   "outputs": [
    {
     "data": {
      "text/plain": [
       "(1, 'chocolate chip', 'http://some.aweso.me/cookie/recipe.html', 'CC01', 12, Decimal('0.50'))"
      ]
     },
     "execution_count": 23,
     "metadata": {},
     "output_type": "execute_result"
    }
   ],
   "source": [
    "firstrow = result[0]\n",
    "firstrow"
   ]
  },
  {
   "cell_type": "code",
   "execution_count": 24,
   "id": "839a6a88",
   "metadata": {},
   "outputs": [
    {
     "data": {
      "text/plain": [
       "'chocolate chip'"
      ]
     },
     "execution_count": 24,
     "metadata": {},
     "output_type": "execute_result"
    }
   ],
   "source": [
    "firstrow[1]"
   ]
  },
  {
   "cell_type": "code",
   "execution_count": 25,
   "id": "01d45ed9",
   "metadata": {},
   "outputs": [
    {
     "data": {
      "text/plain": [
       "'chocolate chip'"
      ]
     },
     "execution_count": 25,
     "metadata": {},
     "output_type": "execute_result"
    }
   ],
   "source": [
    "firstrow.cookie_name"
   ]
  },
  {
   "cell_type": "code",
   "execution_count": 27,
   "id": "5da4f61a",
   "metadata": {},
   "outputs": [
    {
     "name": "stdout",
     "output_type": "stream",
     "text": [
      "2025-05-06 14:35:57,344 INFO sqlalchemy.engine.Engine SELECT cookies.cookie_id, cookies.cookie_name, cookies.cookie_url, cookies.cookie_sku, cookies.quantity, cookies.unit_cost \n",
      "FROM cookies\n",
      "2025-05-06 14:35:57,345 INFO sqlalchemy.engine.Engine [cached since 304.6s ago] ()\n",
      "chocolate chip\n",
      "peanut butter\n",
      "oatmeal raisin\n"
     ]
    }
   ],
   "source": [
    "rp = cnn.execute(s)\n",
    "for re in rp:\n",
    "    print(re.cookie_name)"
   ]
  },
  {
   "cell_type": "code",
   "execution_count": 31,
   "id": "c51e0564",
   "metadata": {},
   "outputs": [
    {
     "name": "stdout",
     "output_type": "stream",
     "text": [
      "2025-05-06 14:41:53,483 INFO sqlalchemy.engine.Engine INSERT INTO cookies (cookie_name, cookie_url, cookie_sku, quantity, unit_cost) VALUES (?, ?, ?, ?, ?)\n",
      "2025-05-06 14:41:53,485 INFO sqlalchemy.engine.Engine [cached since 818.2s ago] ('dark chocolate chip', 'http://some.aweso.me/cookie/recipe_dark.html', 'CC02', '1', 0.75)\n",
      "2025-05-06 14:41:53,487 INFO sqlalchemy.engine.Engine COMMIT\n"
     ]
    },
    {
     "data": {
      "text/plain": [
       "(4,)"
      ]
     },
     "execution_count": 31,
     "metadata": {},
     "output_type": "execute_result"
    }
   ],
   "source": [
    "ins = insert(cookies).values(\n",
    "    cookie_name=\"dark chocolate chip\",\n",
    "    cookie_url=\"http://some.aweso.me/cookie/recipe_dark.html\",\n",
    "    cookie_sku=\"CC02\",\n",
    "    quantity=\"1\",\n",
    "    unit_cost=\"0.75\",\n",
    ")\n",
    "result = cnn.execute(\n",
    "    ins,\n",
    ")\n",
    "cnn.commit()\n",
    "result.inserted_primary_key"
   ]
  },
  {
   "cell_type": "code",
   "execution_count": 32,
   "id": "bf05f23e",
   "metadata": {},
   "outputs": [
    {
     "name": "stdout",
     "output_type": "stream",
     "text": [
      "2025-05-06 14:43:20,466 INFO sqlalchemy.engine.Engine BEGIN (implicit)\n",
      "2025-05-06 14:43:20,468 INFO sqlalchemy.engine.Engine SELECT cookies.cookie_name, cookies.quantity \n",
      "FROM cookies\n",
      "2025-05-06 14:43:20,469 INFO sqlalchemy.engine.Engine [generated in 0.00278s] ()\n"
     ]
    }
   ],
   "source": [
    "s = select(cookies.c.cookie_name, cookies.c.quantity)\n",
    "rp = cnn.execute(s)"
   ]
  },
  {
   "cell_type": "code",
   "execution_count": 33,
   "id": "399e63f7",
   "metadata": {},
   "outputs": [
    {
     "name": "stdout",
     "output_type": "stream",
     "text": [
      "RMKeyView(['cookie_name', 'quantity'])\n"
     ]
    }
   ],
   "source": [
    "print(rp.keys())"
   ]
  },
  {
   "cell_type": "code",
   "execution_count": 34,
   "id": "01c1c318",
   "metadata": {},
   "outputs": [
    {
     "data": {
      "text/plain": [
       "('chocolate chip', 12)"
      ]
     },
     "execution_count": 34,
     "metadata": {},
     "output_type": "execute_result"
    }
   ],
   "source": [
    "result = rp.first()\n",
    "result"
   ]
  },
  {
   "cell_type": "code",
   "execution_count": 35,
   "id": "c9690eff",
   "metadata": {},
   "outputs": [
    {
     "name": "stdout",
     "output_type": "stream",
     "text": [
      "2025-05-06 14:45:16,533 INFO sqlalchemy.engine.Engine SELECT cookies.cookie_name, cookies.quantity \n",
      "FROM cookies ORDER BY cookies.quantity\n",
      "2025-05-06 14:45:16,535 INFO sqlalchemy.engine.Engine [generated in 0.00214s] ()\n",
      "1--dark chocolate chip\n",
      "12--chocolate chip\n",
      "24--peanut butter\n",
      "100--oatmeal raisin\n"
     ]
    }
   ],
   "source": [
    "s = select(cookies.c.cookie_name, cookies.c.quantity)\n",
    "s = s.order_by(cookies.c.quantity)\n",
    "rp = cnn.execute(s)\n",
    "for row in rp:\n",
    "    print(f\"{row.quantity}--{row.cookie_name}\")"
   ]
  },
  {
   "cell_type": "code",
   "execution_count": 36,
   "id": "b2559362",
   "metadata": {},
   "outputs": [
    {
     "name": "stdout",
     "output_type": "stream",
     "text": [
      "2025-05-06 14:47:06,462 INFO sqlalchemy.engine.Engine SELECT cookies.cookie_name, cookies.quantity \n",
      "FROM cookies ORDER BY cookies.quantity DESC\n",
      "2025-05-06 14:47:06,464 INFO sqlalchemy.engine.Engine [generated in 0.00149s] ()\n",
      "('oatmeal raisin', 100)\n",
      "('peanut butter', 24)\n",
      "('chocolate chip', 12)\n",
      "('dark chocolate chip', 1)\n"
     ]
    }
   ],
   "source": [
    "from sqlalchemy import desc\n",
    "\n",
    "s = select(cookies.c.cookie_name, cookies.c.quantity)\n",
    "s = s.order_by(desc(cookies.c.quantity))\n",
    "rep = cnn.execute(s)\n",
    "for row in rep:\n",
    "    print(row)"
   ]
  },
  {
   "cell_type": "code",
   "execution_count": 37,
   "id": "1d05e6c5",
   "metadata": {},
   "outputs": [
    {
     "name": "stdout",
     "output_type": "stream",
     "text": [
      "2025-05-06 14:48:42,282 INFO sqlalchemy.engine.Engine SELECT cookies.cookie_name, cookies.quantity \n",
      "FROM cookies ORDER BY cookies.quantity\n",
      " LIMIT ? OFFSET ?\n",
      "2025-05-06 14:48:42,284 INFO sqlalchemy.engine.Engine [generated in 0.00248s] (2, 0)\n",
      "['dark chocolate chip', 'chocolate chip']\n"
     ]
    }
   ],
   "source": [
    "s = select(cookies.c.cookie_name, cookies.c.quantity)\n",
    "s = s.order_by(cookies.c.quantity)\n",
    "s = s.limit(2)\n",
    "rp = cnn.execute(s)\n",
    "print([res.cookie_name for res in rp])"
   ]
  },
  {
   "cell_type": "code",
   "execution_count": 38,
   "id": "b1a34dd9",
   "metadata": {},
   "outputs": [
    {
     "name": "stdout",
     "output_type": "stream",
     "text": [
      "2025-05-06 14:49:47,108 INFO sqlalchemy.engine.Engine SELECT sum(cookies.quantity) AS sum_1 \n",
      "FROM cookies\n",
      "2025-05-06 14:49:47,110 INFO sqlalchemy.engine.Engine [generated in 0.00160s] ()\n",
      "137\n"
     ]
    }
   ],
   "source": [
    "from sqlalchemy.sql import func\n",
    "\n",
    "s = select(func.sum(cookies.c.quantity))\n",
    "rp = cnn.execute(s)\n",
    "print(rp.scalar())"
   ]
  },
  {
   "cell_type": "code",
   "execution_count": 39,
   "id": "47632730",
   "metadata": {},
   "outputs": [
    {
     "name": "stdout",
     "output_type": "stream",
     "text": [
      "2025-05-06 14:50:40,912 INFO sqlalchemy.engine.Engine SELECT count(cookies.cookie_name) AS count_1 \n",
      "FROM cookies\n",
      "2025-05-06 14:50:40,913 INFO sqlalchemy.engine.Engine [generated in 0.00173s] ()\n"
     ]
    }
   ],
   "source": [
    "s = select(func.count(cookies.c.cookie_name))\n",
    "rp = cnn.execute(s)\n",
    "res = rp.first()"
   ]
  },
  {
   "cell_type": "code",
   "execution_count": 48,
   "id": "cf7aac11",
   "metadata": {},
   "outputs": [
    {
     "name": "stdout",
     "output_type": "stream",
     "text": [
      "2025-05-06 14:53:11,170 INFO sqlalchemy.engine.Engine SELECT cookies.cookie_id, cookies.cookie_name, cookies.cookie_url, cookies.cookie_sku, cookies.quantity, cookies.unit_cost \n",
      "FROM cookies \n",
      "WHERE cookies.cookie_name = ?\n",
      "2025-05-06 14:53:11,172 INFO sqlalchemy.engine.Engine [generated in 0.00208s] ('chocolate chip',)\n",
      "(1, 'chocolate chip', 'http://some.aweso.me/cookie/recipe.html', 'CC01', 12, Decimal('0.50'))\n"
     ]
    }
   ],
   "source": [
    "s = select(cookies).where(cookies.c.cookie_name == \"chocolate chip\")\n",
    "rp = cnn.execute(s)\n",
    "res = rp.first()\n",
    "print(res)"
   ]
  },
  {
   "cell_type": "code",
   "execution_count": 49,
   "id": "07f7694e",
   "metadata": {},
   "outputs": [
    {
     "name": "stdout",
     "output_type": "stream",
     "text": [
      "2025-05-06 14:56:05,338 INFO sqlalchemy.engine.Engine SELECT cookies.cookie_name, ? || cookies.cookie_sku AS anon_1 \n",
      "FROM cookies\n",
      "2025-05-06 14:56:05,340 INFO sqlalchemy.engine.Engine [generated in 0.00172s] ('sku-',)\n",
      "('chocolate chip', 'sku-CC01')\n",
      "('peanut butter', 'sku-PB01')\n",
      "('oatmeal raisin', 'sku-EWW01')\n",
      "('dark chocolate chip', 'sku-CC02')\n"
     ]
    }
   ],
   "source": [
    "s = select(cookies.c.cookie_name, \"sku-\" + cookies.c.cookie_sku)\n",
    "for row in cnn.execute(s):\n",
    "    print(row)"
   ]
  },
  {
   "cell_type": "code",
   "execution_count": 51,
   "id": "e725ccda",
   "metadata": {},
   "outputs": [
    {
     "name": "stdout",
     "output_type": "stream",
     "text": [
      "2025-05-06 14:58:50,583 INFO sqlalchemy.engine.Engine SELECT cookies.cookie_name, CAST(cookies.quantity * cookies.unit_cost AS NUMERIC(12, 2)) AS inv_cost \n",
      "FROM cookies\n",
      "2025-05-06 14:58:50,584 INFO sqlalchemy.engine.Engine [cached since 37.03s ago] ()\n",
      "chocolate chip--6.00\n",
      "peanut butter--6.00\n",
      "oatmeal raisin--100.00\n",
      "dark chocolate chip--0.75\n"
     ]
    }
   ],
   "source": [
    "from sqlalchemy import cast\n",
    "\n",
    "s = select(\n",
    "    cookies.c.cookie_name,\n",
    "    cast((cookies.c.quantity * cookies.c.unit_cost), Numeric(12, 2)).label(\"inv_cost\"),\n",
    ")\n",
    "for row in cnn.execute(s):\n",
    "    print(f\"{row.cookie_name}--{row.inv_cost}\")"
   ]
  },
  {
   "cell_type": "code",
   "execution_count": 52,
   "id": "b31dfbfe",
   "metadata": {},
   "outputs": [
    {
     "name": "stdout",
     "output_type": "stream",
     "text": [
      "2025-05-06 15:00:59,777 INFO sqlalchemy.engine.Engine SELECT cookies.cookie_name, CAST(cookies.quantity * cookies.unit_cost AS NUMERIC(12, 2)) AS inv_cost \n",
      "FROM cookies\n",
      "2025-05-06 15:00:59,779 INFO sqlalchemy.engine.Engine [cached since 166.2s ago] ()\n",
      "2025-05-06 15:00:59,781 INFO sqlalchemy.engine.Engine UPDATE cookies SET quantity=(cookies.quantity + ?) WHERE cookies.cookie_name = ?\n",
      "2025-05-06 15:00:59,782 INFO sqlalchemy.engine.Engine [generated in 0.00141s] (120, 'chocolate chip')\n"
     ]
    },
    {
     "data": {
      "text/plain": [
       "<sqlalchemy.engine.cursor.CursorResult at 0x7f76bb594130>"
      ]
     },
     "execution_count": 52,
     "metadata": {},
     "output_type": "execute_result"
    }
   ],
   "source": [
    "from sqlalchemy import update\n",
    "\n",
    "u = update(cookies).where(cookies.c.cookie_name == \"chocolate chip\")\n",
    "u = u.values(quantity=(cookies.c.quantity + 120))\n",
    "result = cnn.execute(s).first()\n",
    "cnn.execute(u)"
   ]
  },
  {
   "cell_type": "code",
   "execution_count": 53,
   "id": "4632f64f",
   "metadata": {},
   "outputs": [
    {
     "name": "stdout",
     "output_type": "stream",
     "text": [
      "2025-05-06 15:01:52,992 INFO sqlalchemy.engine.Engine SELECT cookies.cookie_id, cookies.cookie_name, cookies.cookie_url, cookies.cookie_sku, cookies.quantity, cookies.unit_cost \n",
      "FROM cookies \n",
      "WHERE cookies.cookie_name = ?\n",
      "2025-05-06 15:01:52,995 INFO sqlalchemy.engine.Engine [cached since 521.8s ago] ('chocolate chip',)\n"
     ]
    }
   ],
   "source": [
    "s = select(cookies).where(cookies.c.cookie_name == \"chocolate chip\")\n",
    "result = cnn.execute(s).first()"
   ]
  },
  {
   "cell_type": "code",
   "execution_count": 57,
   "id": "58b6dae9",
   "metadata": {},
   "outputs": [
    {
     "data": {
      "text/plain": [
       "['count', 'index', 't', 'tuple']"
      ]
     },
     "execution_count": 57,
     "metadata": {},
     "output_type": "execute_result"
    }
   ],
   "source": [
    "[n for n in dir(result) if not n.startswith(\"_\")]"
   ]
  },
  {
   "cell_type": "code",
   "execution_count": 58,
   "id": "19398c95",
   "metadata": {},
   "outputs": [
    {
     "name": "stderr",
     "output_type": "stream",
     "text": [
      "/tmp/ipykernel_77739/3161211357.py:1: SADeprecationWarning: The Row.t attribute is deprecated in favor of Row._t; all Row methods and library-level attributes are intended to be underscored to avoid name conflicts.  Please use Row._t. (deprecated since: 2.0.19)\n",
      "  result.t\n"
     ]
    },
    {
     "data": {
      "text/plain": [
       "(1, 'chocolate chip', 'http://some.aweso.me/cookie/recipe.html', 'CC01', 132, Decimal('0.50'))"
      ]
     },
     "execution_count": 58,
     "metadata": {},
     "output_type": "execute_result"
    }
   ],
   "source": [
    "result.t"
   ]
  },
  {
   "cell_type": "code",
   "execution_count": 59,
   "id": "051621b6",
   "metadata": {},
   "outputs": [
    {
     "name": "stdout",
     "output_type": "stream",
     "text": [
      "2025-05-06 15:07:15,668 INFO sqlalchemy.engine.Engine INSERT INTO users (username, email_address, phone, password, create_on, update_on) VALUES (?, ?, ?, ?, ?, ?)\n",
      "2025-05-06 15:07:15,670 INFO sqlalchemy.engine.Engine [generated in 0.00214s] [('cookiemon', 'mon@cookie.com', '111-111-1111', 'password', '2025-05-06 15:07:15.668808', '2025-05-06 15:07:15.668819'), ('cakeeater', 'cakeeater@cake.com', '222-222-2222', 'password', '2025-05-06 15:07:15.668822', '2025-05-06 15:07:15.668823'), ('pieguy', 'guy@pie.com', '333-333-3333', 'password', '2025-05-06 15:07:15.668825', '2025-05-06 15:07:15.668827')]\n",
      "2025-05-06 15:07:15,672 INFO sqlalchemy.engine.Engine COMMIT\n"
     ]
    }
   ],
   "source": [
    "customer_list = [\n",
    "    {\n",
    "        \"username\": \"cookiemon\",\n",
    "        \"email_address\": \"mon@cookie.com\",\n",
    "        \"phone\": \"111-111-1111\",\n",
    "        \"password\": \"password\",\n",
    "    },\n",
    "    {\n",
    "        \"username\": \"cakeeater\",\n",
    "        \"email_address\": \"cakeeater@cake.com\",\n",
    "        \"phone\": \"222-222-2222\",\n",
    "        \"password\": \"password\",\n",
    "    },\n",
    "    {\n",
    "        \"username\": \"pieguy\",\n",
    "        \"email_address\": \"guy@pie.com\",\n",
    "        \"phone\": \"333-333-3333\",\n",
    "        \"password\": \"password\",\n",
    "    },\n",
    "]\n",
    "ins = users.insert()\n",
    "cnn.execute(ins, customer_list)\n",
    "cnn.commit()"
   ]
  },
  {
   "cell_type": "code",
   "execution_count": 60,
   "id": "642f04f4",
   "metadata": {},
   "outputs": [
    {
     "name": "stdout",
     "output_type": "stream",
     "text": [
      "2025-05-06 15:08:48,130 INFO sqlalchemy.engine.Engine BEGIN (implicit)\n",
      "2025-05-06 15:08:48,131 INFO sqlalchemy.engine.Engine INSERT INTO orders (order_id, user_id, shipped) VALUES (?, ?, ?)\n",
      "2025-05-06 15:08:48,132 INFO sqlalchemy.engine.Engine [generated in 0.00237s] (1, 1, 0)\n",
      "2025-05-06 15:08:48,134 INFO sqlalchemy.engine.Engine INSERT INTO line_items (order_id, cookie_id, quantity, extended_cost) VALUES (?, ?, ?, ?)\n",
      "2025-05-06 15:08:48,135 INFO sqlalchemy.engine.Engine [generated in 0.00066s] [(1, 1, 2, 1.0), (1, 3, 12, 3.0)]\n",
      "2025-05-06 15:08:48,137 INFO sqlalchemy.engine.Engine COMMIT\n"
     ]
    }
   ],
   "source": [
    "ins = insert(orders).values(user_id=1, order_id=1)\n",
    "cnn.execute(ins)\n",
    "ins = insert(line_items)\n",
    "order_items = [\n",
    "    {\"order_id\": 1, \"cookie_id\": 1, \"quantity\": 2, \"extended_cost\": 1.00},\n",
    "    {\"order_id\": 1, \"cookie_id\": 3, \"quantity\": 12, \"extended_cost\": 3.00},\n",
    "]\n",
    "cnn.execute(ins, order_items)\n",
    "cnn.commit()"
   ]
  },
  {
   "cell_type": "code",
   "execution_count": 61,
   "id": "e59944bb",
   "metadata": {},
   "outputs": [
    {
     "name": "stdout",
     "output_type": "stream",
     "text": [
      "2025-05-06 15:09:45,105 INFO sqlalchemy.engine.Engine BEGIN (implicit)\n",
      "2025-05-06 15:09:45,108 INFO sqlalchemy.engine.Engine INSERT INTO orders (order_id, user_id, shipped) VALUES (?, ?, ?)\n",
      "2025-05-06 15:09:45,109 INFO sqlalchemy.engine.Engine [cached since 56.98s ago] (2, 2, 0)\n",
      "2025-05-06 15:09:45,110 INFO sqlalchemy.engine.Engine COMMIT\n"
     ]
    }
   ],
   "source": [
    "ins = insert(orders).values(user_id=2, order_id=2)\n",
    "cnn.execute(ins)\n",
    "cnn.commit()"
   ]
  },
  {
   "cell_type": "code",
   "execution_count": 62,
   "id": "1206b4bf",
   "metadata": {},
   "outputs": [
    {
     "name": "stdout",
     "output_type": "stream",
     "text": [
      "2025-05-06 15:10:18,494 INFO sqlalchemy.engine.Engine BEGIN (implicit)\n",
      "2025-05-06 15:10:18,496 INFO sqlalchemy.engine.Engine INSERT INTO line_items (order_id, cookie_id, quantity, extended_cost) VALUES (?, ?, ?, ?)\n",
      "2025-05-06 15:10:18,497 INFO sqlalchemy.engine.Engine [cached since 90.36s ago] [(2, 1, 24, 12.0), (2, 4, 6, 6.0)]\n",
      "2025-05-06 15:10:18,499 INFO sqlalchemy.engine.Engine COMMIT\n"
     ]
    }
   ],
   "source": [
    "ins = insert(line_items)\n",
    "order_items = [\n",
    "    {\"order_id\": 2, \"cookie_id\": 1, \"quantity\": 24, \"extended_cost\": 12.00},\n",
    "    {\"order_id\": 2, \"cookie_id\": 4, \"quantity\": 6, \"extended_cost\": 6.00},\n",
    "]\n",
    "cnn.execute(ins, order_items)\n",
    "cnn.commit()"
   ]
  },
  {
   "cell_type": "code",
   "execution_count": 70,
   "id": "bb8701f6",
   "metadata": {},
   "outputs": [
    {
     "name": "stdout",
     "output_type": "stream",
     "text": [
      "2025-05-06 15:26:51,087 INFO sqlalchemy.engine.Engine SELECT orders.order_id, users.username, users.phone, cookies.cookie_name, line_items.quantity, line_items.extended_cost \n",
      "FROM orders JOIN users ON users.user_id = orders.user_id JOIN line_items ON orders.order_id = line_items.order_id JOIN cookies ON cookies.cookie_id = line_items.cookie_id \n",
      "WHERE users.username = ?\n",
      "2025-05-06 15:26:51,089 INFO sqlalchemy.engine.Engine [generated in 0.00210s] ('cookiemon',)\n",
      "(1, 'cookiemon', '111-111-1111', 'chocolate chip', 2, Decimal('1.00'))\n",
      "(1, 'cookiemon', '111-111-1111', 'oatmeal raisin', 12, Decimal('3.00'))\n"
     ]
    }
   ],
   "source": [
    "cols = [\n",
    "    orders.c.order_id,\n",
    "    users.c.username,\n",
    "    users.c.phone,\n",
    "    cookies.c.cookie_name,\n",
    "    line_items.c.quantity,\n",
    "    line_items.c.extended_cost,\n",
    "]\n",
    "cookiemon_orders = select(\n",
    "    orders.c.order_id,\n",
    "    users.c[\"username\", \"phone\"],\n",
    "    cookies.c.cookie_name,\n",
    "    line_items.c[\"quantity\", \"extended_cost\"],\n",
    ")\n",
    "cookiemon_orders = cookiemon_orders.select_from(\n",
    "    orders.join(users).join(line_items).join(cookies)\n",
    ").where(users.c.username == \"cookiemon\")\n",
    "result = cnn.execute(cookiemon_orders).fetchall()\n",
    "for row in result:\n",
    "    print(row)"
   ]
  },
  {
   "cell_type": "code",
   "execution_count": 73,
   "id": "48035b00",
   "metadata": {},
   "outputs": [
    {
     "name": "stdout",
     "output_type": "stream",
     "text": [
      "2025-05-06 15:49:50,402 INFO sqlalchemy.engine.Engine SELECT users.username, count(orders.order_id) AS count_1 \n",
      "FROM users LEFT OUTER JOIN orders ON users.user_id = orders.user_id GROUP BY users.username\n",
      "2025-05-06 15:49:50,404 INFO sqlalchemy.engine.Engine [cached since 16.89s ago] ()\n",
      "('cakeeater', 1)\n",
      "('cookiemon', 1)\n",
      "('pieguy', 0)\n"
     ]
    }
   ],
   "source": [
    "allorders = select(users.c.username, func.count(orders.c.order_id))\n",
    "allorders = allorders.select_from(users.outerjoin(orders))\n",
    "allorders = allorders.group_by(users.c.username)\n",
    "res = cnn.execute(allorders).fetchall()\n",
    "for row in res:\n",
    "    print(row)"
   ]
  }
 ],
 "metadata": {
  "kernelspec": {
   "display_name": "learnpython",
   "language": "python",
   "name": "python3"
  },
  "language_info": {
   "codemirror_mode": {
    "name": "ipython",
    "version": 3
   },
   "file_extension": ".py",
   "mimetype": "text/x-python",
   "name": "python",
   "nbconvert_exporter": "python",
   "pygments_lexer": "ipython3",
   "version": "3.13.2"
  }
 },
 "nbformat": 4,
 "nbformat_minor": 5
}
