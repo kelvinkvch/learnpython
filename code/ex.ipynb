{
 "cells": [
  {
   "cell_type": "code",
   "execution_count": 124,
   "id": "d7bcf5dc",
   "metadata": {},
   "outputs": [],
   "source": [
    "import subprocess"
   ]
  },
  {
   "cell_type": "code",
   "execution_count": 125,
   "id": "a1f9502d",
   "metadata": {},
   "outputs": [
    {
     "data": {
      "text/plain": [
       "'Fri Jun 20 16:40:57 CST 2025'"
      ]
     },
     "execution_count": 125,
     "metadata": {},
     "output_type": "execute_result"
    }
   ],
   "source": [
    "ret = subprocess.getoutput(\"date\")\n",
    "ret"
   ]
  },
  {
   "cell_type": "code",
   "execution_count": 126,
   "id": "3dc7c7fc",
   "metadata": {},
   "outputs": [
    {
     "data": {
      "text/plain": [
       "'Fri Jun 20 08:41:33 UTC 2025'"
      ]
     },
     "execution_count": 126,
     "metadata": {},
     "output_type": "execute_result"
    }
   ],
   "source": [
    "subprocess.getoutput(\"date -u\")"
   ]
  },
  {
   "cell_type": "code",
   "execution_count": 127,
   "id": "13ec423b",
   "metadata": {},
   "outputs": [
    {
     "data": {
      "text/plain": [
       "'      1       6      29'"
      ]
     },
     "execution_count": 127,
     "metadata": {},
     "output_type": "execute_result"
    }
   ],
   "source": [
    "subprocess.getoutput(\"date -u | wc\")"
   ]
  },
  {
   "cell_type": "code",
   "execution_count": null,
   "id": "5c5ebe67",
   "metadata": {},
   "outputs": [],
   "source": []
  }
 ],
 "metadata": {
  "kernelspec": {
   "display_name": "learnpython",
   "language": "python",
   "name": "python3"
  },
  "language_info": {
   "codemirror_mode": {
    "name": "ipython",
    "version": 3
   },
   "file_extension": ".py",
   "mimetype": "text/x-python",
   "name": "python",
   "nbconvert_exporter": "python",
   "pygments_lexer": "ipython3",
   "version": "3.13.5"
  }
 },
 "nbformat": 4,
 "nbformat_minor": 5
}
