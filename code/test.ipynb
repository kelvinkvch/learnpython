{
 "cells": [
  {
   "cell_type": "code",
   "execution_count": null,
   "id": "8a3ea0cf",
   "metadata": {},
   "outputs": [],
   "source": [
    "class Car:\n",
    "    def exclaim(self):\n",
    "        print(\"I'm a Car!\")\n",
    "\n",
    "\n",
    "class Yugo(Car):\n",
    "    def exclaim(self):\n",
    "        print(\"I'm a yugo! Much like a car, but more yugo-ish.\")\n",
    "\n",
    "    def push(self):\n",
    "        print(\"A little help here?\")b\n"
   ]
  },
  {
   "cell_type": "code",
   "execution_count": 58,
   "id": "a4edea5f",
   "metadata": {},
   "outputs": [],
   "source": [
    "acar = Car()\n",
    "ayugo = Yugo()"
   ]
  },
  {
   "cell_type": "code",
   "execution_count": 59,
   "id": "80d57fd0",
   "metadata": {},
   "outputs": [
    {
     "name": "stdout",
     "output_type": "stream",
     "text": [
      "I'm a Car!\n"
     ]
    }
   ],
   "source": [
    "acar.exclaim()"
   ]
  },
  {
   "cell_type": "code",
   "execution_count": 60,
   "id": "ae755aa5",
   "metadata": {},
   "outputs": [
    {
     "name": "stdout",
     "output_type": "stream",
     "text": [
      "I'm a yugo! Much like a car, but more yugo-ish.\n"
     ]
    }
   ],
   "source": [
    "ayugo.exclaim()"
   ]
  },
  {
   "cell_type": "code",
   "execution_count": 62,
   "id": "c5cc0052",
   "metadata": {},
   "outputs": [
    {
     "name": "stdout",
     "output_type": "stream",
     "text": [
      "A little help here?\n"
     ]
    }
   ],
   "source": [
    "ayugo.push()"
   ]
  },
  {
   "cell_type": "code",
   "execution_count": null,
   "id": "e2ca8cc1",
   "metadata": {},
   "outputs": [],
   "source": []
  }
 ],
 "metadata": {
  "kernelspec": {
   "display_name": "learnpython",
   "language": "python",
   "name": "python3"
  },
  "language_info": {
   "codemirror_mode": {
    "name": "ipython",
    "version": 3
   },
   "file_extension": ".py",
   "mimetype": "text/x-python",
   "name": "python",
   "nbconvert_exporter": "python",
   "pygments_lexer": "ipython3",
   "version": "3.13.2"
  }
 },
 "nbformat": 4,
 "nbformat_minor": 5
}
