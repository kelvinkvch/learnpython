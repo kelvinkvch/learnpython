{
 "cells": [
  {
   "cell_type": "code",
   "execution_count": 9,
   "id": "bb98ff98",
   "metadata": {},
   "outputs": [],
   "source": [
    "from sqlalchemy import create_engine\n",
    "from sqlalchemy import MetaData\n",
    "from sqlalchemy import Table, Column, Integer, Numeric, String, ForeignKey, Boolean"
   ]
  },
  {
   "cell_type": "code",
   "execution_count": 10,
   "id": "69047a32",
   "metadata": {},
   "outputs": [],
   "source": [
    "metadata = MetaData()\n",
    "engine = create_engine(\n",
    "    \"sqlite:///../output/zoo.db\", echo=True, connect_args={\"check_same_thread\": False}\n",
    ")"
   ]
  },
  {
   "cell_type": "code",
   "execution_count": 11,
   "id": "d8d96da9",
   "metadata": {},
   "outputs": [
    {
     "name": "stdout",
     "output_type": "stream",
     "text": [
      "2025-05-16 08:43:10,255 INFO sqlalchemy.engine.Engine BEGIN (implicit)\n",
      "2025-05-16 08:43:10,255 INFO sqlalchemy.engine.Engine PRAGMA main.table_info(\"cookies\")\n",
      "2025-05-16 08:43:10,256 INFO sqlalchemy.engine.Engine [raw sql] ()\n",
      "2025-05-16 08:43:10,257 INFO sqlalchemy.engine.Engine PRAGMA main.table_info(\"users\")\n",
      "2025-05-16 08:43:10,257 INFO sqlalchemy.engine.Engine [raw sql] ()\n",
      "2025-05-16 08:43:10,258 INFO sqlalchemy.engine.Engine PRAGMA main.table_info(\"orders\")\n",
      "2025-05-16 08:43:10,258 INFO sqlalchemy.engine.Engine [raw sql] ()\n",
      "2025-05-16 08:43:10,259 INFO sqlalchemy.engine.Engine PRAGMA main.table_info(\"line_items\")\n",
      "2025-05-16 08:43:10,260 INFO sqlalchemy.engine.Engine [raw sql] ()\n",
      "2025-05-16 08:43:10,260 INFO sqlalchemy.engine.Engine COMMIT\n"
     ]
    }
   ],
   "source": [
    "cookies = Table(\n",
    "    \"cookies\",\n",
    "    metadata,\n",
    "    Column(\"cookie_id\", Integer(), primary_key=True),\n",
    "    Column(\"cookie_name\", String(50), index=True),\n",
    "    Column(\"cookie_url\", String(255)),\n",
    "    Column(\"cookie_sku\", String(55)),\n",
    "    Column(\"quantity\", Integer()),\n",
    "    Column(\"unit_cost\", Numeric(12, 2)),\n",
    "    extend_existing=True,\n",
    ")\n",
    "from datetime import datetime\n",
    "from sqlalchemy import DateTime\n",
    "\n",
    "users = Table(\n",
    "    \"users\",\n",
    "    metadata,\n",
    "    Column(\"user_id\", Integer(), primary_key=True),\n",
    "    Column(\"username\", String(15), nullable=False, unique=True),\n",
    "    Column(\"email_address\", String(255), nullable=False),\n",
    "    Column(\"phone\", String(20), nullable=False),\n",
    "    Column(\"password\", String(25), nullable=False),\n",
    "    Column(\"create_on\", DateTime(), default=datetime.now),\n",
    "    Column(\"update_on\", DateTime(), default=datetime.now, onupdate=datetime.now),\n",
    "    extend_existing=True,\n",
    ")\n",
    "from sqlalchemy import ForeignKey, Boolean\n",
    "\n",
    "orders = Table(\n",
    "    \"orders\",\n",
    "    metadata,\n",
    "    Column(\"order_id\", Integer(), primary_key=True),\n",
    "    Column(\"user_id\", ForeignKey(\"users.user_id\")),\n",
    "    Column(\"shipped\", Boolean(), default=False),\n",
    "    extend_existing=True,\n",
    ")\n",
    "line_items = Table(\n",
    "    \"line_items\",\n",
    "    metadata,\n",
    "    Column(\"line_id\", Integer(), primary_key=True),\n",
    "    Column(\"order_id\", ForeignKey(\"orders.order_id\")),\n",
    "    Column(\"cookie_id\", ForeignKey(\"cookies.cookie_id\")),\n",
    "    Column(\"quantity\", Integer()),\n",
    "    Column(\"extended_cost\", Numeric(12, 2)),\n",
    "    extend_existing=True,\n",
    ")\n",
    "metadata.create_all(engine)"
   ]
  },
  {
   "cell_type": "code",
   "execution_count": 12,
   "id": "4c548be1",
   "metadata": {},
   "outputs": [],
   "source": [
    "employee_table = Table(\n",
    "    \"employee\",\n",
    "    metadata,\n",
    "    Column(\"id\", Integer, primary_key=True),\n",
    "    Column(\"manager\", None, ForeignKey(\"employee.id\")),\n",
    "    Column(\"name\", String(255)),\n",
    ")"
   ]
  },
  {
   "cell_type": "code",
   "execution_count": 13,
   "id": "eda2aa52",
   "metadata": {},
   "outputs": [
    {
     "name": "stdout",
     "output_type": "stream",
     "text": [
      "2025-05-16 08:43:10,512 INFO sqlalchemy.engine.Engine BEGIN (implicit)\n",
      "2025-05-16 08:43:10,513 INFO sqlalchemy.engine.Engine SELECT users.username, count(orders.order_id) AS count_1 \n",
      "FROM users LEFT OUTER JOIN orders ON users.user_id = orders.user_id GROUP BY users.username\n",
      "2025-05-16 08:43:10,514 INFO sqlalchemy.engine.Engine [generated in 0.00178s] ()\n",
      "('cakeeater', 0)\n",
      "('cookiemon', 1)\n",
      "('pieguy', 0)\n"
     ]
    }
   ],
   "source": [
    "from sqlalchemy import select, func\n",
    "\n",
    "all_orders = select(users.c.username, func.count(orders.c.order_id))\n",
    "all_orders = all_orders.select_from(users.outerjoin(orders))\n",
    "\n",
    "all_orders = all_orders.group_by(users.c.username)\n",
    "\n",
    "cnn = engine.connect()\n",
    "result = cnn.execute(all_orders).fetchall()\n",
    "for row in result:\n",
    "    print(row)"
   ]
  },
  {
   "cell_type": "code",
   "execution_count": 14,
   "id": "35d54288",
   "metadata": {},
   "outputs": [
    {
     "name": "stdout",
     "output_type": "stream",
     "text": [
      "2025-05-16 08:43:10,629 INFO sqlalchemy.engine.Engine SELECT orders.order_id, users.username, users.phone, cookies.cookie_name, line_items.quantity, line_items.extended_cost \n",
      "FROM users JOIN orders ON users.user_id = orders.user_id JOIN line_items ON orders.order_id = line_items.order_id JOIN cookies ON cookies.cookie_id = line_items.cookie_id \n",
      "WHERE users.username = ?\n",
      "2025-05-16 08:43:10,629 INFO sqlalchemy.engine.Engine [generated in 0.00072s] ('cakeeater',)\n"
     ]
    },
    {
     "data": {
      "text/plain": [
       "[]"
      ]
     },
     "execution_count": 14,
     "metadata": {},
     "output_type": "execute_result"
    }
   ],
   "source": [
    "def get_order_by_customer(cust_name):\n",
    "    cust_orders = select(\n",
    "        orders.c.order_id,\n",
    "        users.c.username,\n",
    "        users.c.phone,\n",
    "        cookies.c.cookie_name,\n",
    "        line_items.c.quantity,\n",
    "        line_items.c.extended_cost,\n",
    "    )\n",
    "    cust_orders = cust_orders.select_from(\n",
    "        users.join(orders).join(line_items).join(cookies)\n",
    "    )\n",
    "    cust_orders = cust_orders.where(users.c.username == cust_name)\n",
    "    result = cnn.execute(cust_orders).fetchall()\n",
    "    return result\n",
    "\n",
    "\n",
    "get_order_by_customer(\"cakeeater\")"
   ]
  },
  {
   "cell_type": "code",
   "execution_count": 15,
   "id": "6ed68ff6",
   "metadata": {},
   "outputs": [
    {
     "name": "stdout",
     "output_type": "stream",
     "text": [
      "2025-05-16 08:43:10,764 INFO sqlalchemy.engine.Engine select * from cookies\n",
      "2025-05-16 08:43:10,764 INFO sqlalchemy.engine.Engine [generated in 0.00086s] ()\n"
     ]
    },
    {
     "data": {
      "text/plain": [
       "[(1, 'chocolate chip', 'http://some.aweso.me/cookie/recipe.html', 'CC01', 252, 0.5),\n",
       " (2, 'peanut butter', 'http://some.aweso.me/cookie/recipe.html', 'PB01', 24, 0.25),\n",
       " (3, 'oatmeal raisin', 'http://some.aweso.me/cookie/recipe.html', 'EWW01', 100, 1),\n",
       " (6, 'peanut butter', 'http://some.aweso.me/cookie/peanut.html', 'PB01', 24, 0.25),\n",
       " (7, 'oatmeal raisin', 'http://some.okay.me/cookie/raisin.html', 'EWW01', 100, 1)]"
      ]
     },
     "execution_count": 15,
     "metadata": {},
     "output_type": "execute_result"
    }
   ],
   "source": [
    "from sqlalchemy import text\n",
    "\n",
    "cnn.execute(text(\"select * from cookies\")).fetchall()"
   ]
  },
  {
   "cell_type": "code",
   "execution_count": 16,
   "id": "a9ec67b5",
   "metadata": {},
   "outputs": [],
   "source": [
    "from sqlalchemy import select"
   ]
  },
  {
   "cell_type": "code",
   "execution_count": 17,
   "id": "d2a296d2",
   "metadata": {},
   "outputs": [
    {
     "name": "stdout",
     "output_type": "stream",
     "text": [
      "2025-05-16 08:43:10,979 INFO sqlalchemy.engine.Engine SELECT cookies.cookie_id, cookies.cookie_name, cookies.cookie_url, cookies.cookie_sku, cookies.quantity, cookies.unit_cost \n",
      "FROM cookies\n",
      "2025-05-16 08:43:10,980 INFO sqlalchemy.engine.Engine [generated in 0.00088s] ()\n"
     ]
    },
    {
     "data": {
      "text/plain": [
       "[(1, 'chocolate chip', 'http://some.aweso.me/cookie/recipe.html', 'CC01', 252, Decimal('0.50')),\n",
       " (2, 'peanut butter', 'http://some.aweso.me/cookie/recipe.html', 'PB01', 24, Decimal('0.25')),\n",
       " (3, 'oatmeal raisin', 'http://some.aweso.me/cookie/recipe.html', 'EWW01', 100, Decimal('1.00')),\n",
       " (6, 'peanut butter', 'http://some.aweso.me/cookie/peanut.html', 'PB01', 24, Decimal('0.25')),\n",
       " (7, 'oatmeal raisin', 'http://some.okay.me/cookie/raisin.html', 'EWW01', 100, Decimal('1.00'))]"
      ]
     },
     "execution_count": 17,
     "metadata": {},
     "output_type": "execute_result"
    }
   ],
   "source": [
    "s = select(cookies)\n",
    "rp = cnn.execute(s)\n",
    "result = rp.fetchall()\n",
    "result"
   ]
  },
  {
   "cell_type": "code",
   "execution_count": 18,
   "id": "705193c2",
   "metadata": {},
   "outputs": [
    {
     "name": "stdout",
     "output_type": "stream",
     "text": [
      "2025-05-16 08:43:11,087 INFO sqlalchemy.engine.Engine SELECT cookies.cookie_id, cookies.cookie_name, cookies.cookie_url, cookies.cookie_sku, cookies.quantity, cookies.unit_cost \n",
      "FROM cookies\n",
      "2025-05-16 08:43:11,088 INFO sqlalchemy.engine.Engine [cached since 0.1093s ago] ()\n",
      "[(1, 'chocolate chip', 'http://some.aweso.me/cookie/recipe.html', 'CC01', 252, Decimal('0.50')), (2, 'peanut butter', 'http://some.aweso.me/cookie/recipe.html', 'PB01', 24, Decimal('0.25')), (3, 'oatmeal raisin', 'http://some.aweso.me/cookie/recipe.html', 'EWW01', 100, Decimal('1.00')), (6, 'peanut butter', 'http://some.aweso.me/cookie/peanut.html', 'PB01', 24, Decimal('0.25')), (7, 'oatmeal raisin', 'http://some.okay.me/cookie/raisin.html', 'EWW01', 100, Decimal('1.00'))]\n"
     ]
    }
   ],
   "source": [
    "s = cookies.select()\n",
    "rp = cnn.execute(s)\n",
    "result = rp.fetchall()\n",
    "print(result)"
   ]
  },
  {
   "cell_type": "code",
   "execution_count": 19,
   "id": "ee4dc766",
   "metadata": {},
   "outputs": [
    {
     "data": {
      "text/plain": [
       "(1, 'chocolate chip', 'http://some.aweso.me/cookie/recipe.html', 'CC01', 252, Decimal('0.50'))"
      ]
     },
     "execution_count": 19,
     "metadata": {},
     "output_type": "execute_result"
    }
   ],
   "source": [
    "firstrow = result[0]\n",
    "firstrow"
   ]
  },
  {
   "cell_type": "code",
   "execution_count": 20,
   "id": "7c43e7df",
   "metadata": {},
   "outputs": [
    {
     "data": {
      "text/plain": [
       "'chocolate chip'"
      ]
     },
     "execution_count": 20,
     "metadata": {},
     "output_type": "execute_result"
    }
   ],
   "source": [
    "firstrow[1]"
   ]
  },
  {
   "cell_type": "code",
   "execution_count": 21,
   "id": "339c0437",
   "metadata": {},
   "outputs": [
    {
     "data": {
      "text/plain": [
       "'chocolate chip'"
      ]
     },
     "execution_count": 21,
     "metadata": {},
     "output_type": "execute_result"
    }
   ],
   "source": [
    "firstrow.cookie_name"
   ]
  },
  {
   "cell_type": "code",
   "execution_count": 22,
   "id": "ec0fc2b7",
   "metadata": {},
   "outputs": [
    {
     "name": "stdout",
     "output_type": "stream",
     "text": [
      "2025-05-16 08:43:11,520 INFO sqlalchemy.engine.Engine SELECT cookies.cookie_id, cookies.cookie_name, cookies.cookie_url, cookies.cookie_sku, cookies.quantity, cookies.unit_cost \n",
      "FROM cookies\n",
      "2025-05-16 08:43:11,522 INFO sqlalchemy.engine.Engine [cached since 0.5436s ago] ()\n",
      "chocolate chip\n",
      "peanut butter\n",
      "oatmeal raisin\n",
      "peanut butter\n",
      "oatmeal raisin\n"
     ]
    }
   ],
   "source": [
    "rp = cnn.execute(s)\n",
    "for r in rp:\n",
    "    print(r.cookie_name)"
   ]
  },
  {
   "cell_type": "code",
   "execution_count": 23,
   "id": "e36c816c",
   "metadata": {},
   "outputs": [
    {
     "name": "stdout",
     "output_type": "stream",
     "text": [
      "2025-05-16 08:43:11,629 INFO sqlalchemy.engine.Engine SELECT cookies.cookie_id, cookies.cookie_name, cookies.cookie_url, cookies.cookie_sku, cookies.quantity, cookies.unit_cost \n",
      "FROM cookies\n",
      "2025-05-16 08:43:11,630 INFO sqlalchemy.engine.Engine [cached since 0.651s ago] ()\n"
     ]
    },
    {
     "data": {
      "text/plain": [
       "(1, 'chocolate chip', 'http://some.aweso.me/cookie/recipe.html', 'CC01', 252, Decimal('0.50'))"
      ]
     },
     "execution_count": 23,
     "metadata": {},
     "output_type": "execute_result"
    }
   ],
   "source": [
    "rp = cnn.execute(s)\n",
    "rp.first()"
   ]
  },
  {
   "cell_type": "code",
   "execution_count": 24,
   "id": "c3fa80f2",
   "metadata": {},
   "outputs": [
    {
     "name": "stdout",
     "output_type": "stream",
     "text": [
      "2025-05-16 08:43:11,737 INFO sqlalchemy.engine.Engine SELECT cookies.cookie_id, cookies.cookie_name, cookies.cookie_url, cookies.cookie_sku, cookies.quantity, cookies.unit_cost \n",
      "FROM cookies\n",
      "2025-05-16 08:43:11,738 INFO sqlalchemy.engine.Engine [cached since 0.7597s ago] ()\n"
     ]
    },
    {
     "data": {
      "text/plain": [
       "(1, 'chocolate chip', 'http://some.aweso.me/cookie/recipe.html', 'CC01', 252, Decimal('0.50'))"
      ]
     },
     "execution_count": 24,
     "metadata": {},
     "output_type": "execute_result"
    }
   ],
   "source": [
    "rp = cnn.execute(s)\n",
    "rp.fetchone()"
   ]
  },
  {
   "cell_type": "code",
   "execution_count": 25,
   "id": "4944deb3",
   "metadata": {},
   "outputs": [
    {
     "name": "stdout",
     "output_type": "stream",
     "text": [
      "2025-05-16 08:43:11,845 INFO sqlalchemy.engine.Engine SELECT cookies.cookie_id, cookies.cookie_name, cookies.cookie_url, cookies.cookie_sku, cookies.quantity, cookies.unit_cost \n",
      "FROM cookies\n",
      "2025-05-16 08:43:11,846 INFO sqlalchemy.engine.Engine [cached since 0.8674s ago] ()\n"
     ]
    },
    {
     "data": {
      "text/plain": [
       "1"
      ]
     },
     "execution_count": 25,
     "metadata": {},
     "output_type": "execute_result"
    }
   ],
   "source": [
    "rp = cnn.execute(s)\n",
    "rp.scalar()"
   ]
  },
  {
   "cell_type": "code",
   "execution_count": 26,
   "id": "b20a0eb1",
   "metadata": {},
   "outputs": [
    {
     "name": "stdout",
     "output_type": "stream",
     "text": [
      "2025-05-16 08:43:11,963 INFO sqlalchemy.engine.Engine SELECT cookies.cookie_name, cookies.quantity \n",
      "FROM cookies\n",
      "2025-05-16 08:43:11,964 INFO sqlalchemy.engine.Engine [generated in 0.00122s] ()\n"
     ]
    }
   ],
   "source": [
    "s = select(cookies.c.cookie_name, cookies.c.quantity)\n",
    "rp = cnn.execute(s)"
   ]
  },
  {
   "cell_type": "code",
   "execution_count": 27,
   "id": "65b32725",
   "metadata": {},
   "outputs": [
    {
     "data": {
      "text/plain": [
       "RMKeyView(['cookie_name', 'quantity'])"
      ]
     },
     "execution_count": 27,
     "metadata": {},
     "output_type": "execute_result"
    }
   ],
   "source": [
    "rp.keys()"
   ]
  },
  {
   "cell_type": "code",
   "execution_count": 28,
   "id": "0b097579",
   "metadata": {},
   "outputs": [
    {
     "data": {
      "text/plain": [
       "('chocolate chip', 252)"
      ]
     },
     "execution_count": 28,
     "metadata": {},
     "output_type": "execute_result"
    }
   ],
   "source": [
    "result = rp.first()\n",
    "result"
   ]
  },
  {
   "cell_type": "code",
   "execution_count": 29,
   "id": "69e59916",
   "metadata": {},
   "outputs": [
    {
     "name": "stdout",
     "output_type": "stream",
     "text": [
      "2025-05-16 08:43:12,338 INFO sqlalchemy.engine.Engine SELECT cookies.cookie_name, cookies.quantity \n",
      "FROM cookies ORDER BY cookies.quantity\n",
      "2025-05-16 08:43:12,339 INFO sqlalchemy.engine.Engine [generated in 0.00081s] ()\n",
      "peanut butter--24\n",
      "peanut butter--24\n",
      "oatmeal raisin--100\n",
      "oatmeal raisin--100\n",
      "chocolate chip--252\n"
     ]
    }
   ],
   "source": [
    "s = select(cookies.c.cookie_name, cookies.c.quantity)\n",
    "s = s.order_by(cookies.c.quantity)\n",
    "rp = cnn.execute(s)\n",
    "for ck in rp:\n",
    "    print(f\"{ck.cookie_name}--{ck.quantity}\")"
   ]
  },
  {
   "cell_type": "code",
   "execution_count": 30,
   "id": "608b6e83",
   "metadata": {},
   "outputs": [
    {
     "name": "stdout",
     "output_type": "stream",
     "text": [
      "2025-05-16 08:43:12,463 INFO sqlalchemy.engine.Engine SELECT cookies.cookie_name, cookies.quantity \n",
      "FROM cookies ORDER BY cookies.quantity DESC\n",
      "2025-05-16 08:43:12,464 INFO sqlalchemy.engine.Engine [generated in 0.00096s] ()\n",
      "('chocolate chip', 252)\n",
      "('oatmeal raisin', 100)\n",
      "('oatmeal raisin', 100)\n",
      "('peanut butter', 24)\n",
      "('peanut butter', 24)\n"
     ]
    }
   ],
   "source": [
    "from sqlalchemy import desc\n",
    "\n",
    "s = select(cookies.c.cookie_name, cookies.c.quantity)\n",
    "s = s.order_by(desc(cookies.c.quantity))\n",
    "rp = cnn.execute(s)\n",
    "for ck in rp:\n",
    "    print(ck)"
   ]
  },
  {
   "cell_type": "code",
   "execution_count": 31,
   "id": "21506cfa",
   "metadata": {},
   "outputs": [
    {
     "name": "stdout",
     "output_type": "stream",
     "text": [
      "2025-05-16 08:43:12,630 INFO sqlalchemy.engine.Engine SELECT cookies.cookie_name, cookies.quantity \n",
      "FROM cookies ORDER BY cookies.quantity\n",
      " LIMIT ? OFFSET ?\n",
      "2025-05-16 08:43:12,631 INFO sqlalchemy.engine.Engine [generated in 0.00088s] (3, 0)\n",
      "['peanut butter', 'peanut butter', 'oatmeal raisin']\n"
     ]
    }
   ],
   "source": [
    "s = select(cookies.c.cookie_name, cookies.c.quantity)\n",
    "s = s.order_by(cookies.c.quantity)\n",
    "s = s.limit(3)\n",
    "rp = cnn.execute(s)\n",
    "print([r.cookie_name for r in rp])"
   ]
  },
  {
   "cell_type": "code",
   "execution_count": 32,
   "id": "b64e6c01",
   "metadata": {},
   "outputs": [
    {
     "name": "stdout",
     "output_type": "stream",
     "text": [
      "2025-05-16 08:43:12,755 INFO sqlalchemy.engine.Engine SELECT sum(cookies.quantity) AS sum_1 \n",
      "FROM cookies\n",
      "2025-05-16 08:43:12,756 INFO sqlalchemy.engine.Engine [generated in 0.00086s] ()\n",
      "500\n"
     ]
    }
   ],
   "source": [
    "from sqlalchemy import func\n",
    "\n",
    "s = select(func.sum(cookies.c.quantity))\n",
    "rp = cnn.execute(s)\n",
    "print(rp.scalar())"
   ]
  },
  {
   "cell_type": "code",
   "execution_count": 33,
   "id": "9e767790",
   "metadata": {},
   "outputs": [
    {
     "name": "stdout",
     "output_type": "stream",
     "text": [
      "2025-05-16 08:43:12,872 INFO sqlalchemy.engine.Engine SELECT count(cookies.cookie_name) AS count_1 \n",
      "FROM cookies\n",
      "2025-05-16 08:43:12,873 INFO sqlalchemy.engine.Engine [generated in 0.00112s] ()\n",
      "(5,)\n"
     ]
    }
   ],
   "source": [
    "s = select(func.count(cookies.c.cookie_name))\n",
    "rp = cnn.execute(s)\n",
    "r = rp.first()\n",
    "print(r)"
   ]
  },
  {
   "cell_type": "code",
   "execution_count": 34,
   "id": "0d501f9d",
   "metadata": {},
   "outputs": [
    {
     "name": "stdout",
     "output_type": "stream",
     "text": [
      "2025-05-16 08:43:12,988 INFO sqlalchemy.engine.Engine SELECT count(cookies.cookie_name) AS inv_cnt \n",
      "FROM cookies\n",
      "2025-05-16 08:43:12,990 INFO sqlalchemy.engine.Engine [generated in 0.00124s] ()\n",
      "(5,)\n"
     ]
    }
   ],
   "source": [
    "s = select(func.count(cookies.c.cookie_name).label(\"inv_cnt\"))\n",
    "rp = cnn.execute(s)\n",
    "r = rp.first()\n",
    "print(r)"
   ]
  },
  {
   "cell_type": "code",
   "execution_count": 35,
   "id": "9db1f6e7",
   "metadata": {},
   "outputs": [
    {
     "data": {
      "text/plain": [
       "5"
      ]
     },
     "execution_count": 35,
     "metadata": {},
     "output_type": "execute_result"
    }
   ],
   "source": [
    "r.inv_cnt"
   ]
  },
  {
   "cell_type": "code",
   "execution_count": 36,
   "id": "2730df1d",
   "metadata": {},
   "outputs": [
    {
     "name": "stdout",
     "output_type": "stream",
     "text": [
      "2025-05-16 08:43:13,330 INFO sqlalchemy.engine.Engine SELECT cookies.cookie_id, cookies.cookie_name, cookies.cookie_url, cookies.cookie_sku, cookies.quantity, cookies.unit_cost \n",
      "FROM cookies \n",
      "WHERE cookies.cookie_name = ?\n",
      "2025-05-16 08:43:13,331 INFO sqlalchemy.engine.Engine [generated in 0.00113s] ('chocolate chip',)\n",
      "(1, 'chocolate chip', 'http://some.aweso.me/cookie/recipe.html', 'CC01', 252, Decimal('0.50'))\n"
     ]
    }
   ],
   "source": [
    "s = select(cookies).where(cookies.c.cookie_name == \"chocolate chip\")\n",
    "rp = cnn.execute(s)\n",
    "r = rp.first()\n",
    "print(r)"
   ]
  },
  {
   "cell_type": "code",
   "execution_count": 37,
   "id": "fc73f67c",
   "metadata": {},
   "outputs": [
    {
     "data": {
      "text/plain": [
       "['count', 'index', 't', 'tuple']"
      ]
     },
     "execution_count": 37,
     "metadata": {},
     "output_type": "execute_result"
    }
   ],
   "source": [
    "[n for n in dir(r) if not n.startswith(\"_\")]"
   ]
  },
  {
   "cell_type": "code",
   "execution_count": 38,
   "id": "d9c46ebd",
   "metadata": {},
   "outputs": [
    {
     "data": {
      "text/plain": [
       "(1, 'chocolate chip', 'http://some.aweso.me/cookie/recipe.html', 'CC01', 252, Decimal('0.50'))"
      ]
     },
     "execution_count": 38,
     "metadata": {},
     "output_type": "execute_result"
    }
   ],
   "source": [
    "r._tuple()"
   ]
  },
  {
   "cell_type": "code",
   "execution_count": 39,
   "id": "7ffb1b47",
   "metadata": {},
   "outputs": [
    {
     "name": "stdout",
     "output_type": "stream",
     "text": [
      "2025-05-16 08:43:13,719 INFO sqlalchemy.engine.Engine SELECT cookies.cookie_id, cookies.cookie_name, cookies.cookie_url, cookies.cookie_sku, cookies.quantity, cookies.unit_cost \n",
      "FROM cookies \n",
      "WHERE cookies.cookie_name LIKE ?\n",
      "2025-05-16 08:43:13,719 INFO sqlalchemy.engine.Engine [generated in 0.00075s] ('%chocolate%',)\n",
      "(1, 'chocolate chip', 'http://some.aweso.me/cookie/recipe.html', 'CC01', 252, Decimal('0.50'))\n"
     ]
    }
   ],
   "source": [
    "s = select(cookies).where(cookies.c.cookie_name.like(\"%chocolate%\"))\n",
    "rp = cnn.execute(s)\n",
    "for r in rp.fetchall():\n",
    "    print(r)"
   ]
  },
  {
   "cell_type": "code",
   "execution_count": 40,
   "id": "6b8dcdcd",
   "metadata": {},
   "outputs": [
    {
     "name": "stdout",
     "output_type": "stream",
     "text": [
      "2025-05-16 08:43:13,834 INFO sqlalchemy.engine.Engine SELECT cookies.cookie_name, ? || cookies.cookie_sku AS anon_1 \n",
      "FROM cookies\n",
      "2025-05-16 08:43:13,835 INFO sqlalchemy.engine.Engine [generated in 0.00092s] ('SKU- ',)\n",
      "('chocolate chip', 'SKU- CC01')\n",
      "('peanut butter', 'SKU- PB01')\n",
      "('oatmeal raisin', 'SKU- EWW01')\n",
      "('peanut butter', 'SKU- PB01')\n",
      "('oatmeal raisin', 'SKU- EWW01')\n"
     ]
    }
   ],
   "source": [
    "s = select(cookies.c.cookie_name, \"SKU- \" + cookies.c.cookie_sku)\n",
    "for row in cnn.execute(s):\n",
    "    print(row)"
   ]
  },
  {
   "cell_type": "code",
   "execution_count": 41,
   "id": "cb8ef6cf",
   "metadata": {},
   "outputs": [
    {
     "name": "stdout",
     "output_type": "stream",
     "text": [
      "2025-05-16 08:43:13,941 INFO sqlalchemy.engine.Engine SELECT cookies.cookie_name, CAST(cookies.quantity * cookies.unit_cost AS NUMERIC(12, 2)) AS inv_cost \n",
      "FROM cookies\n",
      "2025-05-16 08:43:13,942 INFO sqlalchemy.engine.Engine [generated in 0.00103s] ()\n",
      "chocolate chip--126.00\n",
      "peanut butter--6.00\n",
      "oatmeal raisin--100.00\n",
      "peanut butter--6.00\n",
      "oatmeal raisin--100.00\n"
     ]
    }
   ],
   "source": [
    "from sqlalchemy import cast\n",
    "\n",
    "s = select(\n",
    "    cookies.c.cookie_name,\n",
    "    cast((cookies.c.quantity * cookies.c.unit_cost), Numeric(12, 2)).label(\"inv_cost\"),\n",
    ")\n",
    "for row in cnn.execute(s):\n",
    "    print(f\"{row.cookie_name}--{row.inv_cost}\")"
   ]
  },
  {
   "cell_type": "code",
   "execution_count": 42,
   "id": "8f33bfde",
   "metadata": {},
   "outputs": [],
   "source": [
    "from sqlalchemy import and_, or_, not_"
   ]
  },
  {
   "cell_type": "code",
   "execution_count": 43,
   "id": "eaa9ac20",
   "metadata": {},
   "outputs": [
    {
     "name": "stdout",
     "output_type": "stream",
     "text": [
      "2025-05-16 08:43:14,147 INFO sqlalchemy.engine.Engine SELECT cookies.cookie_id, cookies.cookie_name, cookies.cookie_url, cookies.cookie_sku, cookies.quantity, cookies.unit_cost \n",
      "FROM cookies \n",
      "WHERE cookies.quantity > ? AND cookies.unit_cost < ?\n",
      "2025-05-16 08:43:14,148 INFO sqlalchemy.engine.Engine [generated in 0.00136s] (23, 0.4)\n",
      "peanut butter\n",
      "peanut butter\n"
     ]
    }
   ],
   "source": [
    "s = select(cookies).where(and_(cookies.c.quantity > 23, cookies.c.unit_cost < 0.4))\n",
    "for row in cnn.execute(s):\n",
    "    print(row.cookie_name)"
   ]
  },
  {
   "cell_type": "code",
   "execution_count": 44,
   "id": "7da767c3",
   "metadata": {},
   "outputs": [
    {
     "name": "stdout",
     "output_type": "stream",
     "text": [
      "2025-05-16 08:43:14,247 INFO sqlalchemy.engine.Engine SELECT cookies.cookie_id, cookies.cookie_name, cookies.cookie_url, cookies.cookie_sku, cookies.quantity, cookies.unit_cost \n",
      "FROM cookies \n",
      "WHERE cookies.quantity BETWEEN ? AND ? OR (cookies.cookie_name LIKE '%' || ? || '%')\n",
      "2025-05-16 08:43:14,248 INFO sqlalchemy.engine.Engine [generated in 0.00131s] (10, 50, 'chip')\n",
      "chocolate chip\n",
      "peanut butter\n",
      "peanut butter\n"
     ]
    }
   ],
   "source": [
    "s = select(cookies).where(\n",
    "    or_(cookies.c.quantity.between(10, 50), cookies.c.cookie_name.contains(\"chip\"))\n",
    ")\n",
    "for row in cnn.execute(s):\n",
    "    print(row.cookie_name)"
   ]
  },
  {
   "cell_type": "code",
   "execution_count": 46,
   "id": "818899c1",
   "metadata": {},
   "outputs": [
    {
     "name": "stdout",
     "output_type": "stream",
     "text": [
      "2025-05-16 09:23:30,158 INFO sqlalchemy.engine.Engine INSERT INTO line_items (order_id, cookie_id, quantity, extended_cost) VALUES (?, ?, ?, ?)\n",
      "2025-05-16 09:23:30,159 INFO sqlalchemy.engine.Engine [generated in 0.00160s] [(1, 1, 2, 1.0), (1, 3, 12, 3.0)]\n",
      "2025-05-16 09:23:30,162 INFO sqlalchemy.engine.Engine INSERT INTO orders (order_id, user_id, shipped) VALUES (?, ?, ?)\n",
      "2025-05-16 09:23:30,162 INFO sqlalchemy.engine.Engine [cached since 148s ago] (2, 2, 0)\n",
      "2025-05-16 09:23:30,164 INFO sqlalchemy.engine.Engine COMMIT\n"
     ]
    }
   ],
   "source": [
    "from sqlalchemy import insert\n",
    "\n",
    "ins = insert(line_items)\n",
    "order_items = [\n",
    "    {\"order_id\": 1, \"cookie_id\": 1, \"quantity\": 2, \"extended_cost\": 1.00},\n",
    "    {\"order_id\": 1, \"cookie_id\": 3, \"quantity\": 12, \"extended_cost\": 3.00},\n",
    "]\n",
    "result = cnn.execute(ins, order_items)\n",
    "ins = insert(orders).values(user_id=2, order_id=2)\n",
    "result = cnn.execute(ins)\n",
    "cnn.commit()"
   ]
  },
  {
   "cell_type": "code",
   "execution_count": 47,
   "id": "631f0a1a",
   "metadata": {},
   "outputs": [
    {
     "name": "stdout",
     "output_type": "stream",
     "text": [
      "2025-05-16 09:26:02,816 INFO sqlalchemy.engine.Engine BEGIN (implicit)\n",
      "2025-05-16 09:26:02,818 INFO sqlalchemy.engine.Engine INSERT INTO line_items (order_id, cookie_id, quantity, extended_cost) VALUES (?, ?, ?, ?)\n",
      "2025-05-16 09:26:02,819 INFO sqlalchemy.engine.Engine [cached since 152.7s ago] [(2, 1, 24, 12.0), (2, 4, 6, 6.0)]\n",
      "2025-05-16 09:26:02,821 INFO sqlalchemy.engine.Engine COMMIT\n"
     ]
    }
   ],
   "source": [
    "ins = insert(line_items)\n",
    "order_items = [\n",
    "    {\n",
    "        \"order_id\": 2,\n",
    "        \"cookie_id\": 1,\n",
    "        \"quantity\": 24,\n",
    "        \"extended_cost\": 12.0,\n",
    "    },\n",
    "    {\"order_id\": 2, \"cookie_id\": 4, \"quantity\": 6, \"extended_cost\": 6.0},\n",
    "]\n",
    "result = cnn.execute(ins, order_items)\n",
    "cnn.commit()"
   ]
  },
  {
   "cell_type": "code",
   "execution_count": 48,
   "id": "6a2629eb",
   "metadata": {},
   "outputs": [
    {
     "name": "stdout",
     "output_type": "stream",
     "text": [
      "2025-05-16 11:48:19,919 INFO sqlalchemy.engine.Engine BEGIN (implicit)\n",
      "2025-05-16 11:48:19,921 INFO sqlalchemy.engine.Engine SELECT orders.order_id, users.username, users.phone, cookies.cookie_name, line_items.quantity, line_items.extended_cost \n",
      "FROM orders JOIN users ON users.user_id = orders.user_id JOIN line_items ON orders.order_id = line_items.order_id JOIN cookies ON cookies.cookie_id = line_items.cookie_id \n",
      "WHERE users.username = ?\n",
      "2025-05-16 11:48:19,922 INFO sqlalchemy.engine.Engine [generated in 0.00253s] ('cookiemon',)\n",
      "(1, 'cookiemon', '111-111-1111', 'chocolate chip', 2, Decimal('1.00'))\n",
      "(1, 'cookiemon', '111-111-1111', 'oatmeal raisin', 12, Decimal('3.00'))\n"
     ]
    }
   ],
   "source": [
    "cookiemon_orders = select(\n",
    "    orders.c.order_id,\n",
    "    users.c.username,\n",
    "    users.c.phone,\n",
    "    cookies.c.cookie_name,\n",
    "    line_items.c.quantity,\n",
    "    line_items.c.extended_cost,\n",
    ")\n",
    "cookiemon_orders = cookiemon_orders.select_from(\n",
    "    orders.join(users).join(line_items).join(cookies)\n",
    ").where(users.c.username == \"cookiemon\")\n",
    "\n",
    "result = cnn.execute(cookiemon_orders).fetchall()\n",
    "for row in result:\n",
    "    print(row)"
   ]
  },
  {
   "cell_type": "code",
   "execution_count": 50,
   "id": "b47ec651",
   "metadata": {},
   "outputs": [
    {
     "data": {
      "text/plain": [
       "'orders JOIN line_items ON orders.order_id = line_items.order_id JOIN cookies ON cookies.cookie_id = line_items.cookie_id'"
      ]
     },
     "execution_count": 50,
     "metadata": {},
     "output_type": "execute_result"
    }
   ],
   "source": [
    "str(orders.join(line_items).join(cookies))"
   ]
  },
  {
   "cell_type": "code",
   "execution_count": 52,
   "id": "7f39fc21",
   "metadata": {},
   "outputs": [
    {
     "data": {
      "text/plain": [
       "'users LEFT OUTER JOIN orders ON users.user_id = orders.user_id'"
      ]
     },
     "execution_count": 52,
     "metadata": {},
     "output_type": "execute_result"
    }
   ],
   "source": [
    "str(users.outerjoin(orders))"
   ]
  },
  {
   "cell_type": "code",
   "execution_count": 53,
   "id": "41679f0d",
   "metadata": {},
   "outputs": [
    {
     "name": "stdout",
     "output_type": "stream",
     "text": [
      "2025-05-16 11:53:54,427 INFO sqlalchemy.engine.Engine SELECT users.username, count(orders.order_id) AS count_1 \n",
      "FROM users LEFT OUTER JOIN orders ON users.user_id = orders.user_id GROUP BY users.username\n",
      "2025-05-16 11:53:54,428 INFO sqlalchemy.engine.Engine [cached since 1.134e+04s ago] ()\n",
      "('cakeeater', 1)\n",
      "('cookiemon', 1)\n",
      "('pieguy', 0)\n"
     ]
    }
   ],
   "source": [
    "all_orders = select(users.c.username, func.count(orders.c.order_id))\n",
    "all_orders = all_orders.select_from(users.outerjoin(orders))\n",
    "all_orders = all_orders.group_by(users.c.username)\n",
    "result = cnn.execute(all_orders).fetchall()\n",
    "for row in result:\n",
    "    print(row)"
   ]
  },
  {
   "cell_type": "code",
   "execution_count": 55,
   "id": "c4a1aed0",
   "metadata": {},
   "outputs": [],
   "source": [
    "em_table = Table(\n",
    "    \"employee\",\n",
    "    metadata,\n",
    "    Column(\"id\", Integer, primary_key=True),\n",
    "    Column(\"manager\", None, ForeignKey(\"employee.id\")),\n",
    "    Column(\"name\", String(255)),\n",
    "    extend_existing=True,\n",
    ")"
   ]
  },
  {
   "cell_type": "code",
   "execution_count": 56,
   "id": "c409de5b",
   "metadata": {},
   "outputs": [
    {
     "name": "stdout",
     "output_type": "stream",
     "text": [
      "SELECT employee.name, employee.id = mgr.id AND mgr.name = :name_1 AS anon_1 \n",
      "FROM employee, employee AS mgr\n"
     ]
    }
   ],
   "source": [
    "manager = em_table.alias(\"mgr\")\n",
    "stmt = select(\n",
    "    em_table.c.name, and_(employee_table.c.id == manager.c.id, manager.c.name == \"Fred\")\n",
    ")\n",
    "print(stmt)"
   ]
  },
  {
   "cell_type": "code",
   "execution_count": 57,
   "id": "b79d2cd8",
   "metadata": {},
   "outputs": [
    {
     "name": "stdout",
     "output_type": "stream",
     "text": [
      "SELECT employee.name, employee.id = employee_1.id AND employee_1.name = :name_1 AS anon_1 \n",
      "FROM employee, employee AS employee_1\n"
     ]
    }
   ],
   "source": [
    "manager = employee_table.alias()\n",
    "stmt = select(\n",
    "    em_table.c.name, and_(em_table.c.id == manager.c.id, manager.c.name == \"Fred\")\n",
    ")\n",
    "print(stmt)"
   ]
  },
  {
   "cell_type": "code",
   "execution_count": 60,
   "id": "282d72e3",
   "metadata": {},
   "outputs": [
    {
     "name": "stdout",
     "output_type": "stream",
     "text": [
      "2025-05-16 14:39:57,970 INFO sqlalchemy.engine.Engine SELECT users.username, count(orders.order_id) AS count_1 \n",
      "FROM users LEFT OUTER JOIN orders ON users.user_id = orders.user_id GROUP BY users.username\n",
      "2025-05-16 14:39:57,971 INFO sqlalchemy.engine.Engine [cached since 2.111e+04s ago] ()\n",
      "('cakeeater', 1)\n",
      "('cookiemon', 1)\n",
      "('pieguy', 0)\n"
     ]
    }
   ],
   "source": [
    "all_orders = select(users.c.username, func.count(orders.c.order_id))\n",
    "all_orders = all_orders.select_from(users.outerjoin(orders))\n",
    "all_orders = all_orders.group_by(users.c.username)\n",
    "result = cnn.execute(all_orders).fetchall()\n",
    "for row in result:\n",
    "    print(row)"
   ]
  },
  {
   "cell_type": "code",
   "execution_count": 61,
   "id": "a991c379",
   "metadata": {},
   "outputs": [
    {
     "name": "stdout",
     "output_type": "stream",
     "text": [
      "2025-05-16 14:43:52,896 INFO sqlalchemy.engine.Engine SELECT orders.order_id, users.username, users.phone, cookies.cookie_name, line_items.quantity, line_items.extended_cost \n",
      "FROM users JOIN orders ON users.user_id = orders.user_id JOIN line_items ON orders.order_id = line_items.order_id JOIN cookies ON cookies.cookie_id = line_items.cookie_id \n",
      "WHERE users.username = ?\n",
      "2025-05-16 14:43:52,897 INFO sqlalchemy.engine.Engine [cached since 2.134e+04s ago] ('cakeeater',)\n"
     ]
    },
    {
     "data": {
      "text/plain": [
       "[(2, 'cakeeater', '222-222-2222', 'chocolate chip', 24, Decimal('12.00'))]"
      ]
     },
     "execution_count": 61,
     "metadata": {},
     "output_type": "execute_result"
    }
   ],
   "source": [
    "def get_orders_by_customer(cust_name):\n",
    "    cust_orders = select(\n",
    "        orders.c.order_id,\n",
    "        users.c.username,\n",
    "        users.c.phone,\n",
    "        cookies.c.cookie_name,\n",
    "        line_items.c.quantity,\n",
    "        line_items.c.extended_cost,\n",
    "    )\n",
    "    cust_orders = cust_orders.select_from(\n",
    "        users.join(orders).join(line_items).join(cookies)\n",
    "    )\n",
    "    cust_orders = cust_orders.where(users.c.username == cust_name)\n",
    "    result = cnn.execute(cust_orders).fetchall()\n",
    "    return result\n",
    "\n",
    "\n",
    "get_order_by_customer(\"cakeeater\")"
   ]
  },
  {
   "cell_type": "code",
   "execution_count": 62,
   "id": "9f7b6bf4",
   "metadata": {},
   "outputs": [
    {
     "data": {
      "text/plain": [
       "[Column('order_id', Integer(), table=<orders>, primary_key=True, nullable=False),\n",
       " Column('username', String(length=15), table=<users>, nullable=False),\n",
       " Column('phone', String(length=20), table=<users>, nullable=False)]"
      ]
     },
     "execution_count": 62,
     "metadata": {},
     "output_type": "execute_result"
    }
   ],
   "source": [
    "cols = [orders.c.order_id, users.c.username, users.c.phone]\n",
    "cols"
   ]
  },
  {
   "cell_type": "code",
   "execution_count": null,
   "id": "44a9f73c",
   "metadata": {},
   "outputs": [],
   "source": [
    "def get_order_by_customer(cust_name,shipped=None,details=False):\n",
    "    if details:\n",
    "        cust_orders=select(\n",
    "            orders.c.order_id,users.c['username','phone'],\n",
    "            line_items.c.extended_cost,cookies.c.cookie_name,line_items.c.quantity\n",
    "        )\n",
    "        joins=users.join()"
   ]
  },
  {
   "cell_type": "code",
   "execution_count": null,
   "id": "d3cd64f3",
   "metadata": {},
   "outputs": [],
   "source": []
  }
 ],
 "metadata": {
  "kernelspec": {
   "display_name": "learnpython",
   "language": "python",
   "name": "python3"
  },
  "language_info": {
   "codemirror_mode": {
    "name": "ipython",
    "version": 3
   },
   "file_extension": ".py",
   "mimetype": "text/x-python",
   "name": "python",
   "nbconvert_exporter": "python",
   "pygments_lexer": "ipython3",
   "version": "3.13.2"
  }
 },
 "nbformat": 4,
 "nbformat_minor": 5
}
